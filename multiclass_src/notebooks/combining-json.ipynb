{
 "cells": [
  {
   "cell_type": "code",
   "execution_count": 1,
   "metadata": {},
   "outputs": [],
   "source": [
    "import json \n",
    "import numpy as np \n",
    "import pandas as pd "
   ]
  },
  {
   "cell_type": "code",
   "execution_count": 2,
   "metadata": {},
   "outputs": [
    {
     "data": {
      "text/plain": [
       "'/Users/taesoodaniellee/Documents/heaviside/multiclass_src/notebooks'"
      ]
     },
     "execution_count": 2,
     "metadata": {},
     "output_type": "execute_result"
    }
   ],
   "source": [
    "pwd"
   ]
  },
  {
   "cell_type": "markdown",
   "metadata": {},
   "source": [
    "joining all results with evaluation results into a larger json"
   ]
  },
  {
   "cell_type": "code",
   "execution_count": 7,
   "metadata": {},
   "outputs": [
    {
     "name": "stdout",
     "output_type": "stream",
     "text": [
      "41\n",
      "69\n",
      "146\n",
      "42\n",
      "84\n",
      "38\n",
      "84\n"
     ]
    }
   ],
   "source": [
    "results_path = \"/Users/taesoodaniellee/Documents/heaviside/multiclass_src/results/old_runs\"\n",
    "output_file = \"20201122_results.json\"\n",
    "file_path1 = \"/\".join([results_path, output_file])\n",
    "with open(file_path1, \"r+\") as f1: \n",
    "    results_20201122 = json.load(f1)\n",
    "    print(len(results_20201122))\n",
    "\n",
    "output_file = \"20201123_results.json\"\n",
    "file_path2 = \"/\".join([results_path, output_file])\n",
    "with open(file_path2, \"r+\") as f2: \n",
    "    results_20201123 = json.load(f2) \n",
    "    print(len(results_20201123))\n",
    "\n",
    "output_file = \"prev.json\"\n",
    "file_path3 = \"/\".join([results_path, output_file])\n",
    "with open(file_path3, \"r+\") as f3: \n",
    "    prev_json = json.load(f3) \n",
    "    print(len(prev_json))\n",
    "\n",
    "output_file = \"results2.json\"\n",
    "file_path4 = \"/\".join([results_path, output_file])\n",
    "with open(file_path4, \"r+\") as f4: \n",
    "    results4 = json.load(f4) \n",
    "    print(len(results4))\n",
    "    \n",
    "results_path = \"/Users/taesoodaniellee/Documents/heaviside/multiclass_src/results\"\n",
    "output_file = \"20201124_results.json\"\n",
    "file_path5 = \"/\".join([results_path, output_file])\n",
    "with open(file_path5, \"r+\") as f5: \n",
    "    results_20201124 = json.load(f5) \n",
    "    print(len(results_20201124))\n",
    "    \n",
    "results_path = \"/Users/taesoodaniellee/Documents/heaviside/multiclass_src/results\"\n",
    "output_file = \"20201128_results.json\"\n",
    "file_path6 = \"/\".join([results_path, output_file])\n",
    "with open(file_path6, \"r+\") as f6: \n",
    "    results_20201128 = json.load(f6) \n",
    "    print(len(results_20201128))\n",
    "    \n",
    "results_path = \"/Users/taesoodaniellee/Documents/heaviside/multiclass_src/results\"\n",
    "output_file = \"20201124_results.json\"\n",
    "file_path7 = \"/\".join([results_path, output_file])\n",
    "with open(file_path7, \"r+\") as f7: \n",
    "    results_threshtrain = json.load(f7) \n",
    "    print(len(results_threshtrain))"
   ]
  },
  {
   "cell_type": "code",
   "execution_count": 8,
   "metadata": {},
   "outputs": [
    {
     "name": "stdout",
     "output_type": "stream",
     "text": [
      "--\n",
      "110\n",
      "194\n",
      "340\n",
      "382\n",
      "588\n"
     ]
    }
   ],
   "source": [
    "print(\"--\")\n",
    "results_20201122 += results_20201123\n",
    "print(len(results_20201122))\n",
    "results_20201122 += results_20201124\n",
    "print(len(results_20201122))\n",
    "results_20201122 += prev_json\n",
    "print(len(results_20201122))\n",
    "results_20201122 += results4\n",
    "print(len(results_20201122))\n",
    "results_20201122 += results_20201124\n",
    "results_20201122 += results_20201128\n",
    "results_20201122 += results_threshtrain\n",
    "\n",
    "# solidifying it into a single one \n",
    "total_results = results_20201122\n",
    "print(len(total_results))"
   ]
  },
  {
   "cell_type": "markdown",
   "metadata": {},
   "source": [
    "now, bringing in the evaluation jsons. "
   ]
  },
  {
   "cell_type": "code",
   "execution_count": 9,
   "metadata": {},
   "outputs": [
    {
     "name": "stdout",
     "output_type": "stream",
     "text": [
      "45\n",
      "69\n",
      "36\n",
      "40\n",
      "55\n"
     ]
    }
   ],
   "source": [
    "results_path = \"/Users/taesoodaniellee/Documents/heaviside/multiclass_src/results/old_runs\"\n",
    "output_file = \"20201122_eval.json\"\n",
    "file_path1 = \"/\".join([results_path, output_file])\n",
    "with open(file_path1, \"r+\") as f1: \n",
    "    results_20201122_e = json.load(f1)\n",
    "    print(len(results_20201122_e))\n",
    "\n",
    "output_file = \"20201123_eval.json\"\n",
    "file_path2 = \"/\".join([results_path, output_file])\n",
    "with open(file_path2, \"r+\") as f2: \n",
    "    results_20201123_e = json.load(f2) \n",
    "    print(len(results_20201123_e))\n",
    "\n",
    "output_file = \"20201124_eval.json\"\n",
    "file_path3 = \"/\".join([results_path, output_file])\n",
    "with open(file_path3, \"r+\") as f3: \n",
    "    results_20201124_e = json.load(f3) \n",
    "    print(len(results_20201124_e))\n",
    "\n",
    "output_file = \"results_eval_thresh.json\"\n",
    "file_path4 = \"/\".join([results_path, output_file])\n",
    "with open(file_path4, \"r+\") as f4: \n",
    "    res4 = json.load(f4) \n",
    "    print(len(res4))\n",
    "    \n",
    "output_file = \"trained_thresh_evaluations.json\"\n",
    "file_path5 = \"/\".join([results_path, output_file])\n",
    "with open(file_path5, \"r+\") as f5: \n",
    "    res5 = json.load(f5) \n",
    "    print(len(res5))\n"
   ]
  },
  {
   "cell_type": "code",
   "execution_count": 10,
   "metadata": {},
   "outputs": [
    {
     "name": "stdout",
     "output_type": "stream",
     "text": [
      "--\n",
      "245\n"
     ]
    }
   ],
   "source": [
    "print(\"--\")\n",
    "results_20201122_e += results_20201123_e\n",
    "results_20201122_e += results_20201124_e\n",
    "results_20201122_e += res4\n",
    "results_20201122_e += res5\n",
    "total_evals = results_20201122_e\n",
    "print(len(total_evals))"
   ]
  },
  {
   "cell_type": "code",
   "execution_count": 11,
   "metadata": {},
   "outputs": [],
   "source": [
    "for i in range(len(total_results)): \n",
    "    for eval_res in total_evals: \n",
    "        if ('run_name' in total_results[i]) and ('run' in eval_res): \n",
    "            if total_results[i]['run_name'] == eval_res['run']: \n",
    "                total_results[i]['evaluation'] = eval_res "
   ]
  },
  {
   "cell_type": "code",
   "execution_count": 12,
   "metadata": {},
   "outputs": [],
   "source": [
    "mismatch=0\n",
    "for i in range(len(total_results)): \n",
    "    if 'evaluation' not in total_results[i]: \n",
    "        mismatch +=1 "
   ]
  },
  {
   "cell_type": "code",
   "execution_count": 13,
   "metadata": {},
   "outputs": [
    {
     "data": {
      "text/plain": [
       "98"
      ]
     },
     "execution_count": 13,
     "metadata": {},
     "output_type": "execute_result"
    }
   ],
   "source": [
    "mismatch"
   ]
  },
  {
   "cell_type": "code",
   "execution_count": 14,
   "metadata": {},
   "outputs": [
    {
     "data": {
      "text/plain": [
       "588"
      ]
     },
     "execution_count": 14,
     "metadata": {},
     "output_type": "execute_result"
    }
   ],
   "source": [
    "len(total_results)"
   ]
  },
  {
   "cell_type": "code",
   "execution_count": 15,
   "metadata": {},
   "outputs": [],
   "source": [
    "def remove_dups(arr):\n",
    "    seen = []\n",
    "    for x in arr: \n",
    "        if x not in seen: \n",
    "            if 'run_name' in x: \n",
    "                if x['run_name'] not in ['testoutfile', 'None-0', 'None-0']: \n",
    "                    seen.append(x) \n",
    "    return seen "
   ]
  },
  {
   "cell_type": "code",
   "execution_count": 16,
   "metadata": {},
   "outputs": [],
   "source": [
    "new_results = remove_dups(total_results)"
   ]
  },
  {
   "cell_type": "code",
   "execution_count": 17,
   "metadata": {},
   "outputs": [
    {
     "data": {
      "text/plain": [
       "376"
      ]
     },
     "execution_count": 17,
     "metadata": {},
     "output_type": "execute_result"
    }
   ],
   "source": [
    "len(new_results)"
   ]
  },
  {
   "cell_type": "code",
   "execution_count": 18,
   "metadata": {
    "scrolled": true
   },
   "outputs": [],
   "source": [
    "results_path = \"/Users/taesoodaniellee/Documents/heaviside/multiclass_src/results/cifar_results.json\"\n",
    "with open(results_path, \"w\") as outfile: \n",
    "    json.dump(new_results, outfile)"
   ]
  }
 ],
 "metadata": {
  "kernelspec": {
   "display_name": "Python 3",
   "language": "python",
   "name": "python3"
  },
  "language_info": {
   "codemirror_mode": {
    "name": "ipython",
    "version": 3
   },
   "file_extension": ".py",
   "mimetype": "text/x-python",
   "name": "python",
   "nbconvert_exporter": "python",
   "pygments_lexer": "ipython3",
   "version": "3.8.5"
  }
 },
 "nbformat": 4,
 "nbformat_minor": 4
}
