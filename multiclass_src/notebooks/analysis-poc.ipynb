{
 "cells": [
  {
   "cell_type": "code",
   "execution_count": 1,
   "metadata": {},
   "outputs": [],
   "source": [
    "import json \n",
    "import numpy as np \n",
    "import pandas as pd "
   ]
  },
  {
   "cell_type": "code",
   "execution_count": 35,
   "metadata": {},
   "outputs": [],
   "source": [
    "agg = {\n",
    "        \"0.1\": {\n",
    "        \"0.1\": {\"mean_f1\":0,\"class_f1s\":[0,0,0,0,0,0,0,0,0,0],\"class_precisions\":[0,0,0,0,0,0,0,0,0,0],\"class_recalls\":[0,0,0,0,0,0,0,0,0,0]},\n",
    "        \"0.2\": {\"mean_f1\":0,\"class_f1s\":[0,0,0,0,0,0,0,0,0,0],\"class_precisions\":[0,0,0,0,0,0,0,0,0,0],\"class_recalls\":[0,0,0,0,0,0,0,0,0,0]},\n",
    "        \"0.3\": {\"mean_f1\":0,\"class_f1s\":[0,0,0,0,0,0,0,0,0,0],\"class_precisions\":[0,0,0,0,0,0,0,0,0,0],\"class_recalls\":[0,0,0,0,0,0,0,0,0,0]},\n",
    "        \"0.4\": {\"mean_f1\":0,\"class_f1s\":[0,0,0,0,0,0,0,0,0,0],\"class_precisions\":[0,0,0,0,0,0,0,0,0,0],\"class_recalls\":[0,0,0,0,0,0,0,0,0,0]},\n",
    "        \"0.45\": {\"mean_f1\":0,\"class_f1s\":[0,0,0,0,0,0,0,0,0,0],\"class_precisions\":[0,0,0,0,0,0,0,0,0,0],\"class_recalls\":[0,0,0,0,0,0,0,0,0,0]},\n",
    "        \"0.5\": {\"mean_f1\":0,\"class_f1s\":[0,0,0,0,0,0,0,0,0,0],\"class_precisions\":[0,0,0,0,0,0,0,0,0,0],\"class_recalls\":[0,0,0,0,0,0,0,0,0,0]},\n",
    "        \"0.55\": {\"mean_f1\":0,\"class_f1s\":[0,0,0,0,0,0,0,0,0,0],\"class_precisions\":[0,0,0,0,0,0,0,0,0,0],\"class_recalls\":[0,0,0,0,0,0,0,0,0,0]},\n",
    "        \"0.6\": {\"mean_f1\":0,\"class_f1s\":[0,0,0,0,0,0,0,0,0,0],\"class_precisions\":[0,0,0,0,0,0,0,0,0,0],\"class_recalls\":[0,0,0,0,0,0,0,0,0,0]},\n",
    "        \"0.7\": {\"mean_f1\":0,\"class_f1s\":[0,0,0,0,0,0,0,0,0,0],\"class_precisions\":[0,0,0,0,0,0,0,0,0,0],\"class_recalls\":[0,0,0,0,0,0,0,0,0,0]},\n",
    "        \"0.8\": {\"mean_f1\":0,\"class_f1s\":[0,0,0,0,0,0,0,0,0,0],\"class_precisions\":[0,0,0,0,0,0,0,0,0,0],\"class_recalls\":[0,0,0,0,0,0,0,0,0,0]},\n",
    "        \"0.9\": {\"mean_f1\":0,\"class_f1s\":[0,0,0,0,0,0,0,0,0,0],\"class_precisions\":[0,0,0,0,0,0,0,0,0,0],\"class_recalls\":[0,0,0,0,0,0,0,0,0,0]}\n",
    "    }, \n",
    "        \"0.125\": {\n",
    "        \"0.1\": {\"mean_f1\":0,\"class_f1s\":[0,0,0,0,0,0,0,0,0,0],\"class_precisions\":[0,0,0,0,0,0,0,0,0,0],\"class_recalls\":[0,0,0,0,0,0,0,0,0,0]},\n",
    "        \"0.2\": {\"mean_f1\":0,\"class_f1s\":[0,0,0,0,0,0,0,0,0,0],\"class_precisions\":[0,0,0,0,0,0,0,0,0,0],\"class_recalls\":[0,0,0,0,0,0,0,0,0,0]},\n",
    "        \"0.3\": {\"mean_f1\":0,\"class_f1s\":[0,0,0,0,0,0,0,0,0,0],\"class_precisions\":[0,0,0,0,0,0,0,0,0,0],\"class_recalls\":[0,0,0,0,0,0,0,0,0,0]},\n",
    "        \"0.4\": {\"mean_f1\":0,\"class_f1s\":[0,0,0,0,0,0,0,0,0,0],\"class_precisions\":[0,0,0,0,0,0,0,0,0,0],\"class_recalls\":[0,0,0,0,0,0,0,0,0,0]},\n",
    "        \"0.45\": {\"mean_f1\":0,\"class_f1s\":[0,0,0,0,0,0,0,0,0,0],\"class_precisions\":[0,0,0,0,0,0,0,0,0,0],\"class_recalls\":[0,0,0,0,0,0,0,0,0,0]},\n",
    "        \"0.5\": {\"mean_f1\":0,\"class_f1s\":[0,0,0,0,0,0,0,0,0,0],\"class_precisions\":[0,0,0,0,0,0,0,0,0,0],\"class_recalls\":[0,0,0,0,0,0,0,0,0,0]},\n",
    "        \"0.55\": {\"mean_f1\":0,\"class_f1s\":[0,0,0,0,0,0,0,0,0,0],\"class_precisions\":[0,0,0,0,0,0,0,0,0,0],\"class_recalls\":[0,0,0,0,0,0,0,0,0,0]},\n",
    "        \"0.6\": {\"mean_f1\":0,\"class_f1s\":[0,0,0,0,0,0,0,0,0,0],\"class_precisions\":[0,0,0,0,0,0,0,0,0,0],\"class_recalls\":[0,0,0,0,0,0,0,0,0,0]},\n",
    "        \"0.7\": {\"mean_f1\":0,\"class_f1s\":[0,0,0,0,0,0,0,0,0,0],\"class_precisions\":[0,0,0,0,0,0,0,0,0,0],\"class_recalls\":[0,0,0,0,0,0,0,0,0,0]},\n",
    "        \"0.8\": {\"mean_f1\":0,\"class_f1s\":[0,0,0,0,0,0,0,0,0,0],\"class_precisions\":[0,0,0,0,0,0,0,0,0,0],\"class_recalls\":[0,0,0,0,0,0,0,0,0,0]},\n",
    "        \"0.9\": {\"mean_f1\":0,\"class_f1s\":[0,0,0,0,0,0,0,0,0,0],\"class_precisions\":[0,0,0,0,0,0,0,0,0,0],\"class_recalls\":[0,0,0,0,0,0,0,0,0,0]}\n",
    "    }, \n",
    "        \"0.2\": {\n",
    "        \"0.1\": {\"mean_f1\":0,\"class_f1s\":[0,0,0,0,0,0,0,0,0,0],\"class_precisions\":[0,0,0,0,0,0,0,0,0,0],\"class_recalls\":[0,0,0,0,0,0,0,0,0,0]},\n",
    "        \"0.2\": {\"mean_f1\":0,\"class_f1s\":[0,0,0,0,0,0,0,0,0,0],\"class_precisions\":[0,0,0,0,0,0,0,0,0,0],\"class_recalls\":[0,0,0,0,0,0,0,0,0,0]},\n",
    "        \"0.3\": {\"mean_f1\":0,\"class_f1s\":[0,0,0,0,0,0,0,0,0,0],\"class_precisions\":[0,0,0,0,0,0,0,0,0,0],\"class_recalls\":[0,0,0,0,0,0,0,0,0,0]},\n",
    "        \"0.4\": {\"mean_f1\":0,\"class_f1s\":[0,0,0,0,0,0,0,0,0,0],\"class_precisions\":[0,0,0,0,0,0,0,0,0,0],\"class_recalls\":[0,0,0,0,0,0,0,0,0,0]},\n",
    "        \"0.45\": {\"mean_f1\":0,\"class_f1s\":[0,0,0,0,0,0,0,0,0,0],\"class_precisions\":[0,0,0,0,0,0,0,0,0,0],\"class_recalls\":[0,0,0,0,0,0,0,0,0,0]},\n",
    "        \"0.5\": {\"mean_f1\":0,\"class_f1s\":[0,0,0,0,0,0,0,0,0,0],\"class_precisions\":[0,0,0,0,0,0,0,0,0,0],\"class_recalls\":[0,0,0,0,0,0,0,0,0,0]},\n",
    "        \"0.55\": {\"mean_f1\":0,\"class_f1s\":[0,0,0,0,0,0,0,0,0,0],\"class_precisions\":[0,0,0,0,0,0,0,0,0,0],\"class_recalls\":[0,0,0,0,0,0,0,0,0,0]},\n",
    "        \"0.6\": {\"mean_f1\":0,\"class_f1s\":[0,0,0,0,0,0,0,0,0,0],\"class_precisions\":[0,0,0,0,0,0,0,0,0,0],\"class_recalls\":[0,0,0,0,0,0,0,0,0,0]},\n",
    "        \"0.7\": {\"mean_f1\":0,\"class_f1s\":[0,0,0,0,0,0,0,0,0,0],\"class_precisions\":[0,0,0,0,0,0,0,0,0,0],\"class_recalls\":[0,0,0,0,0,0,0,0,0,0]},\n",
    "        \"0.8\": {\"mean_f1\":0,\"class_f1s\":[0,0,0,0,0,0,0,0,0,0],\"class_precisions\":[0,0,0,0,0,0,0,0,0,0],\"class_recalls\":[0,0,0,0,0,0,0,0,0,0]},\n",
    "        \"0.9\": {\"mean_f1\":0,\"class_f1s\":[0,0,0,0,0,0,0,0,0,0],\"class_precisions\":[0,0,0,0,0,0,0,0,0,0],\"class_recalls\":[0,0,0,0,0,0,0,0,0,0]}\n",
    "    }, \n",
    "        \"0.3\": {\n",
    "        \"0.1\": {\"mean_f1\":0,\"class_f1s\":[0,0,0,0,0,0,0,0,0,0],\"class_precisions\":[0,0,0,0,0,0,0,0,0,0],\"class_recalls\":[0,0,0,0,0,0,0,0,0,0]},\n",
    "        \"0.2\": {\"mean_f1\":0,\"class_f1s\":[0,0,0,0,0,0,0,0,0,0],\"class_precisions\":[0,0,0,0,0,0,0,0,0,0],\"class_recalls\":[0,0,0,0,0,0,0,0,0,0]},\n",
    "        \"0.3\": {\"mean_f1\":0,\"class_f1s\":[0,0,0,0,0,0,0,0,0,0],\"class_precisions\":[0,0,0,0,0,0,0,0,0,0],\"class_recalls\":[0,0,0,0,0,0,0,0,0,0]},\n",
    "        \"0.4\": {\"mean_f1\":0,\"class_f1s\":[0,0,0,0,0,0,0,0,0,0],\"class_precisions\":[0,0,0,0,0,0,0,0,0,0],\"class_recalls\":[0,0,0,0,0,0,0,0,0,0]},\n",
    "        \"0.45\": {\"mean_f1\":0,\"class_f1s\":[0,0,0,0,0,0,0,0,0,0],\"class_precisions\":[0,0,0,0,0,0,0,0,0,0],\"class_recalls\":[0,0,0,0,0,0,0,0,0,0]},\n",
    "        \"0.5\": {\"mean_f1\":0,\"class_f1s\":[0,0,0,0,0,0,0,0,0,0],\"class_precisions\":[0,0,0,0,0,0,0,0,0,0],\"class_recalls\":[0,0,0,0,0,0,0,0,0,0]},\n",
    "        \"0.55\": {\"mean_f1\":0,\"class_f1s\":[0,0,0,0,0,0,0,0,0,0],\"class_precisions\":[0,0,0,0,0,0,0,0,0,0],\"class_recalls\":[0,0,0,0,0,0,0,0,0,0]},\n",
    "        \"0.6\": {\"mean_f1\":0,\"class_f1s\":[0,0,0,0,0,0,0,0,0,0],\"class_precisions\":[0,0,0,0,0,0,0,0,0,0],\"class_recalls\":[0,0,0,0,0,0,0,0,0,0]},\n",
    "        \"0.7\": {\"mean_f1\":0,\"class_f1s\":[0,0,0,0,0,0,0,0,0,0],\"class_precisions\":[0,0,0,0,0,0,0,0,0,0],\"class_recalls\":[0,0,0,0,0,0,0,0,0,0]},\n",
    "        \"0.8\": {\"mean_f1\":0,\"class_f1s\":[0,0,0,0,0,0,0,0,0,0],\"class_precisions\":[0,0,0,0,0,0,0,0,0,0],\"class_recalls\":[0,0,0,0,0,0,0,0,0,0]},\n",
    "        \"0.9\": {\"mean_f1\":0,\"class_f1s\":[0,0,0,0,0,0,0,0,0,0],\"class_precisions\":[0,0,0,0,0,0,0,0,0,0],\"class_recalls\":[0,0,0,0,0,0,0,0,0,0]}\n",
    "    }, \n",
    "        \"0.4\": {\n",
    "        \"0.1\": {\"mean_f1\":0,\"class_f1s\":[0,0,0,0,0,0,0,0,0,0],\"class_precisions\":[0,0,0,0,0,0,0,0,0,0],\"class_recalls\":[0,0,0,0,0,0,0,0,0,0]},\n",
    "        \"0.2\": {\"mean_f1\":0,\"class_f1s\":[0,0,0,0,0,0,0,0,0,0],\"class_precisions\":[0,0,0,0,0,0,0,0,0,0],\"class_recalls\":[0,0,0,0,0,0,0,0,0,0]},\n",
    "        \"0.3\": {\"mean_f1\":0,\"class_f1s\":[0,0,0,0,0,0,0,0,0,0],\"class_precisions\":[0,0,0,0,0,0,0,0,0,0],\"class_recalls\":[0,0,0,0,0,0,0,0,0,0]},\n",
    "        \"0.4\": {\"mean_f1\":0,\"class_f1s\":[0,0,0,0,0,0,0,0,0,0],\"class_precisions\":[0,0,0,0,0,0,0,0,0,0],\"class_recalls\":[0,0,0,0,0,0,0,0,0,0]},\n",
    "        \"0.45\": {\"mean_f1\":0,\"class_f1s\":[0,0,0,0,0,0,0,0,0,0],\"class_precisions\":[0,0,0,0,0,0,0,0,0,0],\"class_recalls\":[0,0,0,0,0,0,0,0,0,0]},\n",
    "        \"0.5\": {\"mean_f1\":0,\"class_f1s\":[0,0,0,0,0,0,0,0,0,0],\"class_precisions\":[0,0,0,0,0,0,0,0,0,0],\"class_recalls\":[0,0,0,0,0,0,0,0,0,0]},\n",
    "        \"0.55\": {\"mean_f1\":0,\"class_f1s\":[0,0,0,0,0,0,0,0,0,0],\"class_precisions\":[0,0,0,0,0,0,0,0,0,0],\"class_recalls\":[0,0,0,0,0,0,0,0,0,0]},\n",
    "        \"0.6\": {\"mean_f1\":0,\"class_f1s\":[0,0,0,0,0,0,0,0,0,0],\"class_precisions\":[0,0,0,0,0,0,0,0,0,0],\"class_recalls\":[0,0,0,0,0,0,0,0,0,0]},\n",
    "        \"0.7\": {\"mean_f1\":0,\"class_f1s\":[0,0,0,0,0,0,0,0,0,0],\"class_precisions\":[0,0,0,0,0,0,0,0,0,0],\"class_recalls\":[0,0,0,0,0,0,0,0,0,0]},\n",
    "        \"0.8\": {\"mean_f1\":0,\"class_f1s\":[0,0,0,0,0,0,0,0,0,0],\"class_precisions\":[0,0,0,0,0,0,0,0,0,0],\"class_recalls\":[0,0,0,0,0,0,0,0,0,0]},\n",
    "        \"0.9\": {\"mean_f1\":0,\"class_f1s\":[0,0,0,0,0,0,0,0,0,0],\"class_precisions\":[0,0,0,0,0,0,0,0,0,0],\"class_recalls\":[0,0,0,0,0,0,0,0,0,0]}\n",
    "    }, \n",
    "        \"0.5\": {\n",
    "        \"0.1\": {\"mean_f1\":0,\"class_f1s\":[0,0,0,0,0,0,0,0,0,0],\"class_precisions\":[0,0,0,0,0,0,0,0,0,0],\"class_recalls\":[0,0,0,0,0,0,0,0,0,0]},\n",
    "        \"0.2\": {\"mean_f1\":0,\"class_f1s\":[0,0,0,0,0,0,0,0,0,0],\"class_precisions\":[0,0,0,0,0,0,0,0,0,0],\"class_recalls\":[0,0,0,0,0,0,0,0,0,0]},\n",
    "        \"0.3\": {\"mean_f1\":0,\"class_f1s\":[0,0,0,0,0,0,0,0,0,0],\"class_precisions\":[0,0,0,0,0,0,0,0,0,0],\"class_recalls\":[0,0,0,0,0,0,0,0,0,0]},\n",
    "        \"0.4\": {\"mean_f1\":0,\"class_f1s\":[0,0,0,0,0,0,0,0,0,0],\"class_precisions\":[0,0,0,0,0,0,0,0,0,0],\"class_recalls\":[0,0,0,0,0,0,0,0,0,0]},\n",
    "        \"0.45\": {\"mean_f1\":0,\"class_f1s\":[0,0,0,0,0,0,0,0,0,0],\"class_precisions\":[0,0,0,0,0,0,0,0,0,0],\"class_recalls\":[0,0,0,0,0,0,0,0,0,0]},\n",
    "        \"0.5\": {\"mean_f1\":0,\"class_f1s\":[0,0,0,0,0,0,0,0,0,0],\"class_precisions\":[0,0,0,0,0,0,0,0,0,0],\"class_recalls\":[0,0,0,0,0,0,0,0,0,0]},\n",
    "        \"0.55\": {\"mean_f1\":0,\"class_f1s\":[0,0,0,0,0,0,0,0,0,0],\"class_precisions\":[0,0,0,0,0,0,0,0,0,0],\"class_recalls\":[0,0,0,0,0,0,0,0,0,0]},\n",
    "        \"0.6\": {\"mean_f1\":0,\"class_f1s\":[0,0,0,0,0,0,0,0,0,0],\"class_precisions\":[0,0,0,0,0,0,0,0,0,0],\"class_recalls\":[0,0,0,0,0,0,0,0,0,0]},\n",
    "        \"0.7\": {\"mean_f1\":0,\"class_f1s\":[0,0,0,0,0,0,0,0,0,0],\"class_precisions\":[0,0,0,0,0,0,0,0,0,0],\"class_recalls\":[0,0,0,0,0,0,0,0,0,0]},\n",
    "        \"0.8\": {\"mean_f1\":0,\"class_f1s\":[0,0,0,0,0,0,0,0,0,0],\"class_precisions\":[0,0,0,0,0,0,0,0,0,0],\"class_recalls\":[0,0,0,0,0,0,0,0,0,0]},\n",
    "        \"0.9\": {\"mean_f1\":0,\"class_f1s\":[0,0,0,0,0,0,0,0,0,0],\"class_precisions\":[0,0,0,0,0,0,0,0,0,0],\"class_recalls\":[0,0,0,0,0,0,0,0,0,0]}\n",
    "    }, \n",
    "        \"0.6\": {\n",
    "        \"0.1\": {\"mean_f1\":0,\"class_f1s\":[0,0,0,0,0,0,0,0,0,0],\"class_precisions\":[0,0,0,0,0,0,0,0,0,0],\"class_recalls\":[0,0,0,0,0,0,0,0,0,0]},\n",
    "        \"0.2\": {\"mean_f1\":0,\"class_f1s\":[0,0,0,0,0,0,0,0,0,0],\"class_precisions\":[0,0,0,0,0,0,0,0,0,0],\"class_recalls\":[0,0,0,0,0,0,0,0,0,0]},\n",
    "        \"0.3\": {\"mean_f1\":0,\"class_f1s\":[0,0,0,0,0,0,0,0,0,0],\"class_precisions\":[0,0,0,0,0,0,0,0,0,0],\"class_recalls\":[0,0,0,0,0,0,0,0,0,0]},\n",
    "        \"0.4\": {\"mean_f1\":0,\"class_f1s\":[0,0,0,0,0,0,0,0,0,0],\"class_precisions\":[0,0,0,0,0,0,0,0,0,0],\"class_recalls\":[0,0,0,0,0,0,0,0,0,0]},\n",
    "        \"0.45\": {\"mean_f1\":0,\"class_f1s\":[0,0,0,0,0,0,0,0,0,0],\"class_precisions\":[0,0,0,0,0,0,0,0,0,0],\"class_recalls\":[0,0,0,0,0,0,0,0,0,0]},\n",
    "        \"0.5\": {\"mean_f1\":0,\"class_f1s\":[0,0,0,0,0,0,0,0,0,0],\"class_precisions\":[0,0,0,0,0,0,0,0,0,0],\"class_recalls\":[0,0,0,0,0,0,0,0,0,0]},\n",
    "        \"0.55\": {\"mean_f1\":0,\"class_f1s\":[0,0,0,0,0,0,0,0,0,0],\"class_precisions\":[0,0,0,0,0,0,0,0,0,0],\"class_recalls\":[0,0,0,0,0,0,0,0,0,0]},\n",
    "        \"0.6\": {\"mean_f1\":0,\"class_f1s\":[0,0,0,0,0,0,0,0,0,0],\"class_precisions\":[0,0,0,0,0,0,0,0,0,0],\"class_recalls\":[0,0,0,0,0,0,0,0,0,0]},\n",
    "        \"0.7\": {\"mean_f1\":0,\"class_f1s\":[0,0,0,0,0,0,0,0,0,0],\"class_precisions\":[0,0,0,0,0,0,0,0,0,0],\"class_recalls\":[0,0,0,0,0,0,0,0,0,0]},\n",
    "        \"0.8\": {\"mean_f1\":0,\"class_f1s\":[0,0,0,0,0,0,0,0,0,0],\"class_precisions\":[0,0,0,0,0,0,0,0,0,0],\"class_recalls\":[0,0,0,0,0,0,0,0,0,0]},\n",
    "        \"0.9\": {\"mean_f1\":0,\"class_f1s\":[0,0,0,0,0,0,0,0,0,0],\"class_precisions\":[0,0,0,0,0,0,0,0,0,0],\"class_recalls\":[0,0,0,0,0,0,0,0,0,0]}\n",
    "    }, \n",
    "        \"0.7\": {\n",
    "        \"0.1\": {\"mean_f1\":0,\"class_f1s\":[0,0,0,0,0,0,0,0,0,0],\"class_precisions\":[0,0,0,0,0,0,0,0,0,0],\"class_recalls\":[0,0,0,0,0,0,0,0,0,0]},\n",
    "        \"0.2\": {\"mean_f1\":0,\"class_f1s\":[0,0,0,0,0,0,0,0,0,0],\"class_precisions\":[0,0,0,0,0,0,0,0,0,0],\"class_recalls\":[0,0,0,0,0,0,0,0,0,0]},\n",
    "        \"0.3\": {\"mean_f1\":0,\"class_f1s\":[0,0,0,0,0,0,0,0,0,0],\"class_precisions\":[0,0,0,0,0,0,0,0,0,0],\"class_recalls\":[0,0,0,0,0,0,0,0,0,0]},\n",
    "        \"0.4\": {\"mean_f1\":0,\"class_f1s\":[0,0,0,0,0,0,0,0,0,0],\"class_precisions\":[0,0,0,0,0,0,0,0,0,0],\"class_recalls\":[0,0,0,0,0,0,0,0,0,0]},\n",
    "        \"0.45\": {\"mean_f1\":0,\"class_f1s\":[0,0,0,0,0,0,0,0,0,0],\"class_precisions\":[0,0,0,0,0,0,0,0,0,0],\"class_recalls\":[0,0,0,0,0,0,0,0,0,0]},\n",
    "        \"0.5\": {\"mean_f1\":0,\"class_f1s\":[0,0,0,0,0,0,0,0,0,0],\"class_precisions\":[0,0,0,0,0,0,0,0,0,0],\"class_recalls\":[0,0,0,0,0,0,0,0,0,0]},\n",
    "        \"0.55\": {\"mean_f1\":0,\"class_f1s\":[0,0,0,0,0,0,0,0,0,0],\"class_precisions\":[0,0,0,0,0,0,0,0,0,0],\"class_recalls\":[0,0,0,0,0,0,0,0,0,0]},\n",
    "        \"0.6\": {\"mean_f1\":0,\"class_f1s\":[0,0,0,0,0,0,0,0,0,0],\"class_precisions\":[0,0,0,0,0,0,0,0,0,0],\"class_recalls\":[0,0,0,0,0,0,0,0,0,0]},\n",
    "        \"0.7\": {\"mean_f1\":0,\"class_f1s\":[0,0,0,0,0,0,0,0,0,0],\"class_precisions\":[0,0,0,0,0,0,0,0,0,0],\"class_recalls\":[0,0,0,0,0,0,0,0,0,0]},\n",
    "        \"0.8\": {\"mean_f1\":0,\"class_f1s\":[0,0,0,0,0,0,0,0,0,0],\"class_precisions\":[0,0,0,0,0,0,0,0,0,0],\"class_recalls\":[0,0,0,0,0,0,0,0,0,0]},\n",
    "        \"0.9\": {\"mean_f1\":0,\"class_f1s\":[0,0,0,0,0,0,0,0,0,0],\"class_precisions\":[0,0,0,0,0,0,0,0,0,0],\"class_recalls\":[0,0,0,0,0,0,0,0,0,0]}\n",
    "    }, \n",
    "        \"0.8\": {\n",
    "        \"0.1\": {\"mean_f1\":0,\"class_f1s\":[0,0,0,0,0,0,0,0,0,0],\"class_precisions\":[0,0,0,0,0,0,0,0,0,0],\"class_recalls\":[0,0,0,0,0,0,0,0,0,0]},\n",
    "        \"0.2\": {\"mean_f1\":0,\"class_f1s\":[0,0,0,0,0,0,0,0,0,0],\"class_precisions\":[0,0,0,0,0,0,0,0,0,0],\"class_recalls\":[0,0,0,0,0,0,0,0,0,0]},\n",
    "        \"0.3\": {\"mean_f1\":0,\"class_f1s\":[0,0,0,0,0,0,0,0,0,0],\"class_precisions\":[0,0,0,0,0,0,0,0,0,0],\"class_recalls\":[0,0,0,0,0,0,0,0,0,0]},\n",
    "        \"0.4\": {\"mean_f1\":0,\"class_f1s\":[0,0,0,0,0,0,0,0,0,0],\"class_precisions\":[0,0,0,0,0,0,0,0,0,0],\"class_recalls\":[0,0,0,0,0,0,0,0,0,0]},\n",
    "        \"0.45\": {\"mean_f1\":0,\"class_f1s\":[0,0,0,0,0,0,0,0,0,0],\"class_precisions\":[0,0,0,0,0,0,0,0,0,0],\"class_recalls\":[0,0,0,0,0,0,0,0,0,0]},\n",
    "        \"0.5\": {\"mean_f1\":0,\"class_f1s\":[0,0,0,0,0,0,0,0,0,0],\"class_precisions\":[0,0,0,0,0,0,0,0,0,0],\"class_recalls\":[0,0,0,0,0,0,0,0,0,0]},\n",
    "        \"0.55\": {\"mean_f1\":0,\"class_f1s\":[0,0,0,0,0,0,0,0,0,0],\"class_precisions\":[0,0,0,0,0,0,0,0,0,0],\"class_recalls\":[0,0,0,0,0,0,0,0,0,0]},\n",
    "        \"0.6\": {\"mean_f1\":0,\"class_f1s\":[0,0,0,0,0,0,0,0,0,0],\"class_precisions\":[0,0,0,0,0,0,0,0,0,0],\"class_recalls\":[0,0,0,0,0,0,0,0,0,0]},\n",
    "        \"0.7\": {\"mean_f1\":0,\"class_f1s\":[0,0,0,0,0,0,0,0,0,0],\"class_precisions\":[0,0,0,0,0,0,0,0,0,0],\"class_recalls\":[0,0,0,0,0,0,0,0,0,0]},\n",
    "        \"0.8\": {\"mean_f1\":0,\"class_f1s\":[0,0,0,0,0,0,0,0,0,0],\"class_precisions\":[0,0,0,0,0,0,0,0,0,0],\"class_recalls\":[0,0,0,0,0,0,0,0,0,0]},\n",
    "        \"0.9\": {\"mean_f1\":0,\"class_f1s\":[0,0,0,0,0,0,0,0,0,0],\"class_precisions\":[0,0,0,0,0,0,0,0,0,0],\"class_recalls\":[0,0,0,0,0,0,0,0,0,0]}\n",
    "    }, \n",
    "        \"0.9\": {\n",
    "        \"0.1\": {\"mean_f1\":0,\"class_f1s\":[0,0,0,0,0,0,0,0,0,0],\"class_precisions\":[0,0,0,0,0,0,0,0,0,0],\"class_recalls\":[0,0,0,0,0,0,0,0,0,0]},\n",
    "        \"0.2\": {\"mean_f1\":0,\"class_f1s\":[0,0,0,0,0,0,0,0,0,0],\"class_precisions\":[0,0,0,0,0,0,0,0,0,0],\"class_recalls\":[0,0,0,0,0,0,0,0,0,0]},\n",
    "        \"0.3\": {\"mean_f1\":0,\"class_f1s\":[0,0,0,0,0,0,0,0,0,0],\"class_precisions\":[0,0,0,0,0,0,0,0,0,0],\"class_recalls\":[0,0,0,0,0,0,0,0,0,0]},\n",
    "        \"0.4\": {\"mean_f1\":0,\"class_f1s\":[0,0,0,0,0,0,0,0,0,0],\"class_precisions\":[0,0,0,0,0,0,0,0,0,0],\"class_recalls\":[0,0,0,0,0,0,0,0,0,0]},\n",
    "        \"0.45\": {\"mean_f1\":0,\"class_f1s\":[0,0,0,0,0,0,0,0,0,0],\"class_precisions\":[0,0,0,0,0,0,0,0,0,0],\"class_recalls\":[0,0,0,0,0,0,0,0,0,0]},\n",
    "        \"0.5\": {\"mean_f1\":0,\"class_f1s\":[0,0,0,0,0,0,0,0,0,0],\"class_precisions\":[0,0,0,0,0,0,0,0,0,0],\"class_recalls\":[0,0,0,0,0,0,0,0,0,0]},\n",
    "        \"0.55\": {\"mean_f1\":0,\"class_f1s\":[0,0,0,0,0,0,0,0,0,0],\"class_precisions\":[0,0,0,0,0,0,0,0,0,0],\"class_recalls\":[0,0,0,0,0,0,0,0,0,0]},\n",
    "        \"0.6\": {\"mean_f1\":0,\"class_f1s\":[0,0,0,0,0,0,0,0,0,0],\"class_precisions\":[0,0,0,0,0,0,0,0,0,0],\"class_recalls\":[0,0,0,0,0,0,0,0,0,0]},\n",
    "        \"0.7\": {\"mean_f1\":0,\"class_f1s\":[0,0,0,0,0,0,0,0,0,0],\"class_precisions\":[0,0,0,0,0,0,0,0,0,0],\"class_recalls\":[0,0,0,0,0,0,0,0,0,0]},\n",
    "        \"0.8\": {\"mean_f1\":0,\"class_f1s\":[0,0,0,0,0,0,0,0,0,0],\"class_precisions\":[0,0,0,0,0,0,0,0,0,0],\"class_recalls\":[0,0,0,0,0,0,0,0,0,0]},\n",
    "        \"0.9\": {\"mean_f1\":0,\"class_f1s\":[0,0,0,0,0,0,0,0,0,0],\"class_precisions\":[0,0,0,0,0,0,0,0,0,0],\"class_recalls\":[0,0,0,0,0,0,0,0,0,0]}\n",
    "    }\n",
    "}"
   ]
  },
  {
   "cell_type": "markdown",
   "metadata": {},
   "source": [
    "## reading in jsons and aggregating results"
   ]
  },
  {
   "cell_type": "code",
   "execution_count": 3,
   "metadata": {},
   "outputs": [],
   "source": [
    "def load_eval_json(eval_file): \n",
    "    results_path = \"/app/timeseries/multiclass_src/results/poc\"\n",
    "    output_file = eval_file\n",
    "    fp = \"/\".join([results_path, output_file])\n",
    "    with open(fp, \"r+\") as f: \n",
    "        results = json.load(f)\n",
    "    return results "
   ]
  },
  {
   "cell_type": "code",
   "execution_count": 6,
   "metadata": {},
   "outputs": [],
   "source": [
    "poc_res = load_eval_json(\"poc_agg.json\")"
   ]
  },
  {
   "cell_type": "code",
   "execution_count": 7,
   "metadata": {},
   "outputs": [],
   "source": [
    "train_taus = ['0.1', '0.125', '0.2', '0.3', '0.4', '0.5', '0.6', '0.7', '0.8', '0.9']\n",
    "eval_taus = ['0.1', '0.2', '0.3', '0.4', '0.45', '0.5', '0.55', '0.6', '0.7', '0.8', '0.9']"
   ]
  },
  {
   "cell_type": "code",
   "execution_count": 8,
   "metadata": {},
   "outputs": [
    {
     "name": "stdout",
     "output_type": "stream",
     "text": [
      "3.0\n"
     ]
    }
   ],
   "source": [
    "num_runs = float(len(poc_res))\n",
    "print(num_runs)"
   ]
  },
  {
   "cell_type": "code",
   "execution_count": 11,
   "metadata": {},
   "outputs": [],
   "source": [
    "runs = poc_res"
   ]
  },
  {
   "cell_type": "code",
   "execution_count": 13,
   "metadata": {},
   "outputs": [],
   "source": [
    "num_runs = float(len(poc_res))\n",
    "for run in runs:\n",
    "    # for each trained model \n",
    "    for train_tau in train_taus: \n",
    "        # for each eval threshold \n",
    "        for eval_tau in eval_taus:\n",
    "            \n",
    "            class_f1s = agg[train_tau][eval_tau]['class_f1s']\n",
    "            adj_f1s = [x/num_runs for x in run[train_tau][eval_tau]['class_f1s']] \n",
    "            agg[train_tau][eval_tau]['class_f1s'] = np.add(\n",
    "                class_f1s, adj_f1s)\n",
    "            \n",
    "            class_precisions = agg[train_tau][eval_tau]['class_precisions']\n",
    "            adj_prec = [x/num_runs for x in run[train_tau][eval_tau]['class_precisions']] \n",
    "            agg[train_tau][eval_tau]['class_precisions'] = np.add(\n",
    "                class_precisions, adj_prec)\n",
    "            \n",
    "            class_recalls = agg[train_tau][eval_tau]['class_recalls']\n",
    "            adj_rec = [x/num_runs for x in run[train_tau][eval_tau]['class_recalls']] \n",
    "            agg[train_tau][eval_tau]['class_recalls'] = np.add(\n",
    "                class_recalls, adj_rec)\n",
    "            \n",
    "            "
   ]
  },
  {
   "cell_type": "code",
   "execution_count": 14,
   "metadata": {},
   "outputs": [],
   "source": [
    "for train_tau in train_taus: \n",
    "    for eval_tau in eval_taus: \n",
    "        agg[train_tau][eval_tau]['class_f1s'] = list(agg[train_tau][eval_tau]['class_f1s'])\n",
    "        agg[train_tau][eval_tau]['class_recalls'] = list(agg[train_tau][eval_tau]['class_recalls'])\n",
    "        agg[train_tau][eval_tau]['class_precisions'] = list(agg[train_tau][eval_tau]['class_precisions'])"
   ]
  },
  {
   "cell_type": "code",
   "execution_count": 22,
   "metadata": {},
   "outputs": [],
   "source": [
    "eval_agg = {\"0.1\":{'class_f1s':[0,0,0,0,0,0,0,0,0,0]}, \n",
    "            \"0.2\":{'class_f1s':[0,0,0,0,0,0,0,0,0,0]}, \n",
    "            \"0.3\":{'class_f1s':[0,0,0,0,0,0,0,0,0,0]}, \n",
    "            \"0.4\":{'class_f1s':[0,0,0,0,0,0,0,0,0,0]}, \n",
    "            \"0.45\":{'class_f1s':[0,0,0,0,0,0,0,0,0,0]}, \n",
    "            \"0.5\":{'class_f1s':[0,0,0,0,0,0,0,0,0,0]}, \n",
    "            \"0.55\":{'class_f1s':[0,0,0,0,0,0,0,0,0,0]}, \n",
    "            \"0.6\":{'class_f1s':[0,0,0,0,0,0,0,0,0,0]}, \n",
    "            \"0.7\":{'class_f1s':[0,0,0,0,0,0,0,0,0,0]}, \n",
    "            \"0.8\":{'class_f1s':[0,0,0,0,0,0,0,0,0,0]}, \n",
    "            \"0.9\":{'class_f1s':[0,0,0,0,0,0,0,0,0,0]}}"
   ]
  },
  {
   "cell_type": "code",
   "execution_count": 23,
   "metadata": {},
   "outputs": [],
   "source": [
    "train_taus = ['0.1', '0.125', '0.2', '0.3', '0.4', '0.5', '0.6', '0.7', '0.8', '0.9']\n",
    "eval_taus = ['0.1', '0.2', '0.3', '0.4', '0.45', '0.5', '0.55', '0.6', '0.7', '0.8', '0.9']"
   ]
  },
  {
   "cell_type": "code",
   "execution_count": 24,
   "metadata": {},
   "outputs": [
    {
     "name": "stdout",
     "output_type": "stream",
     "text": [
      "For Eval 0.1, Class 1 picked 0.1\n",
      "For Eval 0.1, Class 2 picked 0.1\n",
      "For Eval 0.1, Class 3 picked 0.125\n",
      "For Eval 0.1, Class 4 picked 0.125\n",
      "For Eval 0.1, Class 5 picked 0.4\n",
      "For Eval 0.1, Class 6 picked 0.125\n",
      "For Eval 0.1, Class 7 picked 0.125\n",
      "For Eval 0.1, Class 8 picked 0.3\n",
      "For Eval 0.1, Class 9 picked 0.1\n",
      "For Eval 0.1, Class 10 picked 0.3\n",
      "For Eval 0.2, Class 1 picked 0.2\n",
      "For Eval 0.2, Class 2 picked 0.125\n",
      "For Eval 0.2, Class 3 picked 0.125\n",
      "For Eval 0.2, Class 4 picked 0.125\n",
      "For Eval 0.2, Class 5 picked 0.125\n",
      "For Eval 0.2, Class 6 picked 0.125\n",
      "For Eval 0.2, Class 7 picked 0.4\n",
      "For Eval 0.2, Class 8 picked 0.2\n",
      "For Eval 0.2, Class 9 picked 0.1\n",
      "For Eval 0.2, Class 10 picked 0.125\n",
      "For Eval 0.3, Class 1 picked 0.1\n",
      "For Eval 0.3, Class 2 picked 0.2\n",
      "For Eval 0.3, Class 3 picked 0.125\n",
      "For Eval 0.3, Class 4 picked 0.4\n",
      "For Eval 0.3, Class 5 picked 0.125\n",
      "For Eval 0.3, Class 6 picked 0.125\n",
      "For Eval 0.3, Class 7 picked 0.4\n",
      "For Eval 0.3, Class 8 picked 0.2\n",
      "For Eval 0.3, Class 9 picked 0.1\n",
      "For Eval 0.3, Class 10 picked 0.125\n",
      "For Eval 0.4, Class 1 picked 0.1\n",
      "For Eval 0.4, Class 2 picked 0.6\n",
      "For Eval 0.4, Class 3 picked 0.125\n",
      "For Eval 0.4, Class 4 picked 0.4\n",
      "For Eval 0.4, Class 5 picked 0.4\n",
      "For Eval 0.4, Class 6 picked 0.125\n",
      "For Eval 0.4, Class 7 picked 0.125\n",
      "For Eval 0.4, Class 8 picked 0.3\n",
      "For Eval 0.4, Class 9 picked 0.1\n",
      "For Eval 0.4, Class 10 picked 0.2\n",
      "For Eval 0.45, Class 1 picked 0.2\n",
      "For Eval 0.45, Class 2 picked 0.2\n",
      "For Eval 0.45, Class 3 picked 0.125\n",
      "For Eval 0.45, Class 4 picked 0.4\n",
      "For Eval 0.45, Class 5 picked 0.125\n",
      "For Eval 0.45, Class 6 picked 0.125\n",
      "For Eval 0.45, Class 7 picked 0.4\n",
      "For Eval 0.45, Class 8 picked 0.3\n",
      "For Eval 0.45, Class 9 picked 0.1\n",
      "For Eval 0.45, Class 10 picked 0.2\n",
      "For Eval 0.5, Class 1 picked 0.1\n",
      "For Eval 0.5, Class 2 picked 0.2\n",
      "For Eval 0.5, Class 3 picked 0.125\n",
      "For Eval 0.5, Class 4 picked 0.6\n",
      "For Eval 0.5, Class 5 picked 0.125\n",
      "For Eval 0.5, Class 6 picked 0.125\n",
      "For Eval 0.5, Class 7 picked 0.125\n",
      "For Eval 0.5, Class 8 picked 0.2\n",
      "For Eval 0.5, Class 9 picked 0.1\n",
      "For Eval 0.5, Class 10 picked 0.125\n",
      "For Eval 0.55, Class 1 picked 0.1\n",
      "For Eval 0.55, Class 2 picked 0.1\n",
      "For Eval 0.55, Class 3 picked 0.125\n",
      "For Eval 0.55, Class 4 picked 0.7\n",
      "For Eval 0.55, Class 5 picked 0.6\n",
      "For Eval 0.55, Class 6 picked 0.125\n",
      "For Eval 0.55, Class 7 picked 0.125\n",
      "For Eval 0.55, Class 8 picked 0.3\n",
      "For Eval 0.55, Class 9 picked 0.1\n",
      "For Eval 0.55, Class 10 picked 0.125\n",
      "For Eval 0.6, Class 1 picked 0.125\n",
      "For Eval 0.6, Class 2 picked 0.2\n",
      "For Eval 0.6, Class 3 picked 0.125\n",
      "For Eval 0.6, Class 4 picked 0.7\n",
      "For Eval 0.6, Class 5 picked 0.5\n",
      "For Eval 0.6, Class 6 picked 0.125\n",
      "For Eval 0.6, Class 7 picked 0.4\n",
      "For Eval 0.6, Class 8 picked 0.4\n",
      "For Eval 0.6, Class 9 picked 0.1\n",
      "For Eval 0.6, Class 10 picked 0.2\n",
      "For Eval 0.7, Class 1 picked 0.2\n",
      "For Eval 0.7, Class 2 picked 0.6\n",
      "For Eval 0.7, Class 3 picked 0.125\n",
      "For Eval 0.7, Class 4 picked 0.7\n",
      "For Eval 0.7, Class 5 picked 0.125\n",
      "For Eval 0.7, Class 6 picked 0.125\n",
      "For Eval 0.7, Class 7 picked 0.125\n",
      "For Eval 0.7, Class 8 picked 0.3\n",
      "For Eval 0.7, Class 9 picked 0.4\n",
      "For Eval 0.7, Class 10 picked 0.125\n",
      "For Eval 0.8, Class 1 picked 0.2\n",
      "For Eval 0.8, Class 2 picked 0.125\n",
      "For Eval 0.8, Class 3 picked 0.125\n",
      "For Eval 0.8, Class 4 picked 0.7\n",
      "For Eval 0.8, Class 5 picked 0.125\n",
      "For Eval 0.8, Class 6 picked 0.125\n",
      "For Eval 0.8, Class 7 picked 0.125\n",
      "For Eval 0.8, Class 8 picked 0.3\n",
      "For Eval 0.8, Class 9 picked 0.1\n",
      "For Eval 0.8, Class 10 picked 0.125\n",
      "For Eval 0.9, Class 1 picked 0.1\n",
      "For Eval 0.9, Class 2 picked 0.2\n",
      "For Eval 0.9, Class 3 picked 0.7\n",
      "For Eval 0.9, Class 4 picked 0.7\n",
      "For Eval 0.9, Class 5 picked 0.125\n",
      "For Eval 0.9, Class 6 picked 0.125\n",
      "For Eval 0.9, Class 7 picked 0.4\n",
      "For Eval 0.9, Class 8 picked 0.3\n",
      "For Eval 0.9, Class 9 picked 0.1\n",
      "For Eval 0.9, Class 10 picked 0.2\n"
     ]
    }
   ],
   "source": [
    "for etau in eval_taus: \n",
    "    for i in range(10): \n",
    "        # for the all the trained models (at eval threshold 0.1), store the \n",
    "        holder = [agg[x][etau]['class_f1s'][i] for x in train_taus]\n",
    "        eval_agg[etau]['class_f1s'][i] = max(holder)\n",
    "        print(\"For Eval {}, Class {} picked {}\".format(etau, i+1, train_taus[holder.index(max(holder))]))"
   ]
  },
  {
   "cell_type": "code",
   "execution_count": 25,
   "metadata": {},
   "outputs": [],
   "source": [
    "final_agg = {\"0.1\":0, \"0.2\":0, \"0.3\":0, \"0.4\":0, \"0.45\":0, \"0.5\":0, \"0.55\":0, \"0.6\":0, \"0.7\":0, \"0.8\":0, \"0.9\":0}\n",
    "variance = {\"0.1\":0, \"0.2\":0, \"0.3\":0, \"0.4\":0, \"0.45\":0, \"0.5\":0, \"0.55\":0, \"0.6\":0, \"0.7\":0, \"0.8\":0, \"0.9\":0}"
   ]
  },
  {
   "cell_type": "code",
   "execution_count": 27,
   "metadata": {},
   "outputs": [],
   "source": [
    "for etau in eval_taus: \n",
    "    final_agg[etau] = np.array(eval_agg[etau]['class_f1s']).mean()\n",
    "    variance[etau] = np.array(eval_agg[etau]['class_f1s']).var()"
   ]
  },
  {
   "cell_type": "code",
   "execution_count": 28,
   "metadata": {},
   "outputs": [
    {
     "data": {
      "text/plain": [
       "{'0.1': 0.00989932157934104,\n",
       " '0.2': 0.008858667383665201,\n",
       " '0.3': 0.012207224953504197,\n",
       " '0.4': 0.00983113426218747,\n",
       " '0.45': 0.012160761899570213,\n",
       " '0.5': 0.009836803264046906,\n",
       " '0.55': 0.01049708402717279,\n",
       " '0.6': 0.008490378830225107,\n",
       " '0.7': 0.013156186008054765,\n",
       " '0.8': 0.01519825938696806,\n",
       " '0.9': 0.019367389739980412}"
      ]
     },
     "execution_count": 28,
     "metadata": {},
     "output_type": "execute_result"
    }
   ],
   "source": [
    "variance"
   ]
  },
  {
   "cell_type": "code",
   "execution_count": 29,
   "metadata": {},
   "outputs": [],
   "source": [
    "final_agg_arr = [final_agg[etau] for etau in eval_taus]"
   ]
  },
  {
   "cell_type": "code",
   "execution_count": 30,
   "metadata": {},
   "outputs": [
    {
     "data": {
      "text/plain": [
       "[0.5500030855337779,\n",
       " 0.5613434493541717,\n",
       " 0.5594184319178263,\n",
       " 0.5640014042456943,\n",
       " 0.565955180923144,\n",
       " 0.5613971859216689,\n",
       " 0.5553698420524598,\n",
       " 0.5554081588983536,\n",
       " 0.5500029375155767,\n",
       " 0.5422840754191081,\n",
       " 0.5317232569058736]"
      ]
     },
     "execution_count": 30,
     "metadata": {},
     "output_type": "execute_result"
    }
   ],
   "source": [
    "final_agg_arr"
   ]
  },
  {
   "cell_type": "markdown",
   "metadata": {},
   "source": [
    "# checking in results from regular thresholding"
   ]
  },
  {
   "cell_type": "code",
   "execution_count": 31,
   "metadata": {},
   "outputs": [],
   "source": [
    "def load_eval_json(eval_file): \n",
    "    results_path = \"/app/timeseries/multiclass_src/results/train_tau/20201216\"\n",
    "    output_file = eval_file\n",
    "    fp = \"/\".join([results_path, output_file])\n",
    "    with open(fp, \"r+\") as f: \n",
    "        results = json.load(f)\n",
    "    return results "
   ]
  },
  {
   "cell_type": "code",
   "execution_count": 32,
   "metadata": {},
   "outputs": [],
   "source": [
    "train_tau_res = load_eval_json(\"v2_imbalanced_results.json\")"
   ]
  },
  {
   "cell_type": "code",
   "execution_count": 33,
   "metadata": {},
   "outputs": [],
   "source": [
    "train_taus = ['0.1', '0.125', '0.2', '0.3', '0.4', '0.5', '0.6', '0.7', '0.8', '0.9']\n",
    "eval_taus = ['0.1', '0.2', '0.3', '0.4', '0.45', '0.5', '0.55', '0.6', '0.7', '0.8', '0.9']\n",
    "runs = train_tau_res"
   ]
  },
  {
   "cell_type": "code",
   "execution_count": 34,
   "metadata": {},
   "outputs": [
    {
     "name": "stdout",
     "output_type": "stream",
     "text": [
      "3.0\n"
     ]
    }
   ],
   "source": [
    "num_runs = float(len(train_tau_res))\n",
    "print(num_runs)"
   ]
  },
  {
   "cell_type": "code",
   "execution_count": 36,
   "metadata": {},
   "outputs": [],
   "source": [
    "num_runs = float(len(train_tau_res))\n",
    "for run in runs:\n",
    "    # for each trained model \n",
    "    for train_tau in train_taus: \n",
    "        # for each eval threshold \n",
    "        for eval_tau in eval_taus:\n",
    "            \n",
    "            agg[train_tau][eval_tau]['mean_f1'] += run[train_tau][eval_tau]['mean_f1']  / num_runs\n",
    "            class_f1s = agg[train_tau][eval_tau]['class_f1s']\n",
    "            adj_f1s = [x/num_runs for x in run[train_tau][eval_tau]['class_f1s']] \n",
    "            agg[train_tau][eval_tau]['class_f1s'] = np.add(\n",
    "                class_f1s, adj_f1s)\n",
    "            \n",
    "            class_precisions = agg[train_tau][eval_tau]['class_precisions']\n",
    "            adj_prec = [x/num_runs for x in run[train_tau][eval_tau]['class_precisions']] \n",
    "            agg[train_tau][eval_tau]['class_precisions'] = np.add(\n",
    "                class_precisions, adj_prec)\n",
    "            \n",
    "            class_recalls = agg[train_tau][eval_tau]['class_recalls']\n",
    "            adj_rec = [x/num_runs for x in run[train_tau][eval_tau]['class_recalls']] \n",
    "            agg[train_tau][eval_tau]['class_recalls'] = np.add(\n",
    "                class_recalls, adj_rec)"
   ]
  },
  {
   "cell_type": "code",
   "execution_count": 37,
   "metadata": {},
   "outputs": [],
   "source": [
    "eval_agg = {\"0.1\":{'class_f1s':[0,0,0,0,0,0,0,0,0,0]}, \n",
    "            \"0.2\":{'class_f1s':[0,0,0,0,0,0,0,0,0,0]}, \n",
    "            \"0.3\":{'class_f1s':[0,0,0,0,0,0,0,0,0,0]}, \n",
    "            \"0.4\":{'class_f1s':[0,0,0,0,0,0,0,0,0,0]}, \n",
    "            \"0.45\":{'class_f1s':[0,0,0,0,0,0,0,0,0,0]}, \n",
    "            \"0.5\":{'class_f1s':[0,0,0,0,0,0,0,0,0,0]}, \n",
    "            \"0.55\":{'class_f1s':[0,0,0,0,0,0,0,0,0,0]}, \n",
    "            \"0.6\":{'class_f1s':[0,0,0,0,0,0,0,0,0,0]}, \n",
    "            \"0.7\":{'class_f1s':[0,0,0,0,0,0,0,0,0,0]}, \n",
    "            \"0.8\":{'class_f1s':[0,0,0,0,0,0,0,0,0,0]}, \n",
    "            \"0.9\":{'class_f1s':[0,0,0,0,0,0,0,0,0,0]}}"
   ]
  },
  {
   "cell_type": "code",
   "execution_count": 38,
   "metadata": {},
   "outputs": [],
   "source": [
    "train_taus = ['0.1', '0.125', '0.2', '0.3', '0.4', '0.5', '0.6', '0.7', '0.8', '0.9']\n",
    "eval_taus = ['0.1', '0.2', '0.3', '0.4', '0.45', '0.5', '0.55', '0.6', '0.7', '0.8', '0.9']"
   ]
  },
  {
   "cell_type": "code",
   "execution_count": 39,
   "metadata": {},
   "outputs": [
    {
     "name": "stdout",
     "output_type": "stream",
     "text": [
      "For Eval 0.1, Class 1 picked 0.125\n",
      "For Eval 0.1, Class 2 picked 0.5\n",
      "For Eval 0.1, Class 3 picked 0.6\n",
      "For Eval 0.1, Class 4 picked 0.2\n",
      "For Eval 0.1, Class 5 picked 0.2\n",
      "For Eval 0.1, Class 6 picked 0.7\n",
      "For Eval 0.1, Class 7 picked 0.5\n",
      "For Eval 0.1, Class 8 picked 0.6\n",
      "For Eval 0.1, Class 9 picked 0.8\n",
      "For Eval 0.1, Class 10 picked 0.5\n",
      "For Eval 0.2, Class 1 picked 0.6\n",
      "For Eval 0.2, Class 2 picked 0.2\n",
      "For Eval 0.2, Class 3 picked 0.5\n",
      "For Eval 0.2, Class 4 picked 0.2\n",
      "For Eval 0.2, Class 5 picked 0.7\n",
      "For Eval 0.2, Class 6 picked 0.125\n",
      "For Eval 0.2, Class 7 picked 0.5\n",
      "For Eval 0.2, Class 8 picked 0.125\n",
      "For Eval 0.2, Class 9 picked 0.7\n",
      "For Eval 0.2, Class 10 picked 0.2\n",
      "For Eval 0.3, Class 1 picked 0.5\n",
      "For Eval 0.3, Class 2 picked 0.125\n",
      "For Eval 0.3, Class 3 picked 0.7\n",
      "For Eval 0.3, Class 4 picked 0.7\n",
      "For Eval 0.3, Class 5 picked 0.6\n",
      "For Eval 0.3, Class 6 picked 0.6\n",
      "For Eval 0.3, Class 7 picked 0.5\n",
      "For Eval 0.3, Class 8 picked 0.5\n",
      "For Eval 0.3, Class 9 picked 0.8\n",
      "For Eval 0.3, Class 10 picked 0.5\n",
      "For Eval 0.4, Class 1 picked 0.125\n",
      "For Eval 0.4, Class 2 picked 0.5\n",
      "For Eval 0.4, Class 3 picked 0.8\n",
      "For Eval 0.4, Class 4 picked 0.8\n",
      "For Eval 0.4, Class 5 picked 0.6\n",
      "For Eval 0.4, Class 6 picked 0.7\n",
      "For Eval 0.4, Class 7 picked 0.2\n",
      "For Eval 0.4, Class 8 picked 0.8\n",
      "For Eval 0.4, Class 9 picked 0.8\n",
      "For Eval 0.4, Class 10 picked 0.2\n",
      "For Eval 0.45, Class 1 picked 0.6\n",
      "For Eval 0.45, Class 2 picked 0.8\n",
      "For Eval 0.45, Class 3 picked 0.125\n",
      "For Eval 0.45, Class 4 picked 0.7\n",
      "For Eval 0.45, Class 5 picked 0.6\n",
      "For Eval 0.45, Class 6 picked 0.5\n",
      "For Eval 0.45, Class 7 picked 0.2\n",
      "For Eval 0.45, Class 8 picked 0.7\n",
      "For Eval 0.45, Class 9 picked 0.2\n",
      "For Eval 0.45, Class 10 picked 0.125\n",
      "For Eval 0.5, Class 1 picked 0.8\n",
      "For Eval 0.5, Class 2 picked 0.5\n",
      "For Eval 0.5, Class 3 picked 0.5\n",
      "For Eval 0.5, Class 4 picked 0.3\n",
      "For Eval 0.5, Class 5 picked 0.7\n",
      "For Eval 0.5, Class 6 picked 0.125\n",
      "For Eval 0.5, Class 7 picked 0.5\n",
      "For Eval 0.5, Class 8 picked 0.125\n",
      "For Eval 0.5, Class 9 picked 0.7\n",
      "For Eval 0.5, Class 10 picked 0.2\n",
      "For Eval 0.55, Class 1 picked 0.5\n",
      "For Eval 0.55, Class 2 picked 0.8\n",
      "For Eval 0.55, Class 3 picked 0.8\n",
      "For Eval 0.55, Class 4 picked 0.2\n",
      "For Eval 0.55, Class 5 picked 0.8\n",
      "For Eval 0.55, Class 6 picked 0.125\n",
      "For Eval 0.55, Class 7 picked 0.5\n",
      "For Eval 0.55, Class 8 picked 0.3\n",
      "For Eval 0.55, Class 9 picked 0.6\n",
      "For Eval 0.55, Class 10 picked 0.8\n",
      "For Eval 0.6, Class 1 picked 0.2\n",
      "For Eval 0.6, Class 2 picked 0.6\n",
      "For Eval 0.6, Class 3 picked 0.8\n",
      "For Eval 0.6, Class 4 picked 0.5\n",
      "For Eval 0.6, Class 5 picked 0.5\n",
      "For Eval 0.6, Class 6 picked 0.7\n",
      "For Eval 0.6, Class 7 picked 0.6\n",
      "For Eval 0.6, Class 8 picked 0.7\n",
      "For Eval 0.6, Class 9 picked 0.2\n",
      "For Eval 0.6, Class 10 picked 0.5\n",
      "For Eval 0.7, Class 1 picked 0.2\n",
      "For Eval 0.7, Class 2 picked 0.5\n",
      "For Eval 0.7, Class 3 picked 0.8\n",
      "For Eval 0.7, Class 4 picked 0.6\n",
      "For Eval 0.7, Class 5 picked 0.8\n",
      "For Eval 0.7, Class 6 picked 0.8\n",
      "For Eval 0.7, Class 7 picked 0.125\n",
      "For Eval 0.7, Class 8 picked 0.8\n",
      "For Eval 0.7, Class 9 picked 0.2\n",
      "For Eval 0.7, Class 10 picked 0.7\n",
      "For Eval 0.8, Class 1 picked 0.2\n",
      "For Eval 0.8, Class 2 picked 0.8\n",
      "For Eval 0.8, Class 3 picked 0.8\n",
      "For Eval 0.8, Class 4 picked 0.6\n",
      "For Eval 0.8, Class 5 picked 0.2\n",
      "For Eval 0.8, Class 6 picked 0.125\n",
      "For Eval 0.8, Class 7 picked 0.3\n",
      "For Eval 0.8, Class 8 picked 0.8\n",
      "For Eval 0.8, Class 9 picked 0.8\n",
      "For Eval 0.8, Class 10 picked 0.2\n",
      "For Eval 0.9, Class 1 picked 0.8\n",
      "For Eval 0.9, Class 2 picked 0.5\n",
      "For Eval 0.9, Class 3 picked 0.5\n",
      "For Eval 0.9, Class 4 picked 0.125\n",
      "For Eval 0.9, Class 5 picked 0.6\n",
      "For Eval 0.9, Class 6 picked 0.5\n",
      "For Eval 0.9, Class 7 picked 0.5\n",
      "For Eval 0.9, Class 8 picked 0.7\n",
      "For Eval 0.9, Class 9 picked 0.5\n",
      "For Eval 0.9, Class 10 picked 0.5\n"
     ]
    }
   ],
   "source": [
    "for etau in eval_taus: \n",
    "    for i in range(10): \n",
    "        # for the all the trained models (at eval threshold 0.1), store the \n",
    "        holder = [agg[x][etau]['class_f1s'][i] for x in train_taus]\n",
    "        eval_agg[etau]['class_f1s'][i] = max(holder)\n",
    "        print(\"For Eval {}, Class {} picked {}\".format(etau, i+1, train_taus[holder.index(max(holder))]))"
   ]
  },
  {
   "cell_type": "code",
   "execution_count": 40,
   "metadata": {},
   "outputs": [],
   "source": [
    "final_agg = {\"0.1\":0, \"0.2\":0, \"0.3\":0, \"0.4\":0, \"0.45\":0, \"0.5\":0, \"0.55\":0, \"0.6\":0, \"0.7\":0, \"0.8\":0, \"0.9\":0}\n",
    "variance = {\"0.1\":0, \"0.2\":0, \"0.3\":0, \"0.4\":0, \"0.45\":0, \"0.5\":0, \"0.55\":0, \"0.6\":0, \"0.7\":0, \"0.8\":0, \"0.9\":0}"
   ]
  },
  {
   "cell_type": "code",
   "execution_count": 41,
   "metadata": {},
   "outputs": [],
   "source": [
    "for etau in eval_taus: \n",
    "    final_agg[etau] = np.array(eval_agg[etau]['class_f1s']).mean()\n",
    "    variance[etau] = np.array(eval_agg[etau]['class_f1s']).var()"
   ]
  },
  {
   "cell_type": "code",
   "execution_count": 42,
   "metadata": {},
   "outputs": [],
   "source": [
    "final_agg_arr = [final_agg[etau] for etau in eval_taus]"
   ]
  },
  {
   "cell_type": "code",
   "execution_count": 43,
   "metadata": {},
   "outputs": [
    {
     "data": {
      "text/plain": [
       "[0.5478956222534179,\n",
       " 0.5574150641759237,\n",
       " 0.5535933703184127,\n",
       " 0.5615792860587436,\n",
       " 0.5609682957331339,\n",
       " 0.555631517370542,\n",
       " 0.5641472121079764,\n",
       " 0.5684819499651591,\n",
       " 0.5610714266697565,\n",
       " 0.5583472619454066,\n",
       " 0.5690086444218954]"
      ]
     },
     "execution_count": 43,
     "metadata": {},
     "output_type": "execute_result"
    }
   ],
   "source": [
    "final_agg_arr"
   ]
  },
  {
   "cell_type": "markdown",
   "metadata": {},
   "source": [
    "# checking in results from baseline and approx-f1"
   ]
  },
  {
   "cell_type": "code",
   "execution_count": 44,
   "metadata": {},
   "outputs": [],
   "source": [
    "def load_eval_json(eval_file): \n",
    "    results_path = \"/app/timeseries/multiclass_src/results/new_runs\"\n",
    "    output_file = eval_file\n",
    "    fp = \"/\".join([results_path, output_file])\n",
    "    with open(fp, \"r+\") as f: \n",
    "        results = json.load(f)\n",
    "    return results \n",
    "def aggregate_runs(results_json): \n",
    "    '''Assuming each input is an array of JSONs that all have the same shape\n",
    "    This aggregates an array of jsons together into a singular one, based on the set fields below\n",
    "    '''\n",
    "    eval_json = {}\n",
    "    eval_taus = ['0.1', '0.2', '0.3', '0.4', '0.45', '0.5', '0.55', '0.6', '0.7', '0.8', '0.9']\n",
    "    for tau in eval_taus: \n",
    "        eval_json[str(tau)] = {}\n",
    "        eval_json[str(tau)]['mean_f1'] =  np.mean([x[str(tau)]['mean_f1'] for x in results_json])\n",
    "        class_f1s = [x[str(tau)]['class_f1s'] for x in results_json]\n",
    "        eval_json[str(tau)]['class_f1s'] = np.mean(class_f1s, axis=0)\n",
    "        \n",
    "        class_pr = [x[str(tau)]['class_precisions'] for x in results_json]\n",
    "        eval_json[str(tau)]['class_precisions'] = np.mean(class_pr, axis=0)\n",
    "        eval_json[str(tau)]['mean_pr'] = np.mean(eval_json[str(tau)]['class_precisions'])\n",
    "        \n",
    "        class_re = [x[str(tau)]['class_recalls'] for x in results_json]\n",
    "        eval_json[str(tau)]['class_recalls'] = np.mean(class_re, axis=0)\n",
    "        eval_json[str(tau)]['mean_re'] = np.mean(eval_json[str(tau)]['class_recalls'])\n",
    "    return eval_json "
   ]
  },
  {
   "cell_type": "code",
   "execution_count": 45,
   "metadata": {},
   "outputs": [],
   "source": [
    "af1_results = load_eval_json(eval_file=\"20201211_approxf1_eval.json\")\n",
    "ce_results = load_eval_json(eval_file=\"20201211_ce_eval.json\")"
   ]
  },
  {
   "cell_type": "code",
   "execution_count": 46,
   "metadata": {},
   "outputs": [],
   "source": [
    "af1_agg = aggregate_runs(af1_results)\n",
    "ce_agg = aggregate_runs(ce_results)"
   ]
  },
  {
   "cell_type": "code",
   "execution_count": 48,
   "metadata": {},
   "outputs": [],
   "source": [
    "af1_f1s = [af1_agg[x]['mean_f1'] for x in af1_agg]\n",
    "af1_pr = [af1_agg[x]['mean_pr'] for x in af1_agg]\n",
    "af1_re = [af1_agg[x]['mean_re'] for x in af1_agg]\n",
    "ce_f1s = [ce_agg[x]['mean_f1'] for x in ce_agg]\n",
    "ce_pr = [ce_agg[x]['mean_pr'] for x in ce_agg]\n",
    "ce_re = [ce_agg[x]['mean_re'] for x in ce_agg]"
   ]
  },
  {
   "cell_type": "code",
   "execution_count": 50,
   "metadata": {},
   "outputs": [
    {
     "data": {
      "image/png": "[encoded data removed]",
      "text/plain": [
       "<Figure size 504x360 with 1 Axes>"
      ]
     },
     "metadata": {
      "needs_background": "light"
     },
     "output_type": "display_data"
    }
   ],
   "source": [
    "import matplotlib.pyplot as plt\n",
    "plt.rcParams[\"figure.figsize\"] = (7,5)\n",
    "# plot the mean f1's across the taus \n",
    "taus = [0.1, 0.2, 0.3, 0.4, 0.45, 0.5, 0.55, 0.6, 0.7, 0.8, 0.9]\n",
    "plt.plot(taus, ce_f1s, label=\"baseline (ce)\")\n",
    "plt.plot(taus, af1_f1s, label=\"approx f1\")\n",
    "plt.plot(taus, [0.5500030855337779,\n",
    " 0.5613434493541717,\n",
    " 0.5594184319178263,\n",
    " 0.5640014042456943,\n",
    " 0.565955180923144,\n",
    " 0.5613971859216689,\n",
    " 0.5553698420524598,\n",
    " 0.5554081588983536,\n",
    " 0.5500029375155767,\n",
    " 0.5422840754191081,\n",
    " 0.5317232569058736], label=\"poc\")\n",
    "plt.plot(taus, [0.5478956222534179,\n",
    " 0.5574150641759237,\n",
    " 0.5535933703184127,\n",
    " 0.5615792860587436,\n",
    " 0.5609682957331339,\n",
    " 0.555631517370542,\n",
    " 0.5641472121079764,\n",
    " 0.5684819499651591,\n",
    " 0.5610714266697565,\n",
    " 0.5583472619454066,\n",
    " 0.5690086444218954], label=\"grid-search\")\n",
    "plt.title(\"Eval Taus vs. Mean F1's [1024]\")\n",
    "plt.xlabel(\"Evaluation Tau's\")\n",
    "plt.ylabel(\"Mean F1\")\n",
    "plt.legend()\n",
    "plt.show()"
   ]
  },
  {
   "cell_type": "code",
   "execution_count": 89,
   "metadata": {},
   "outputs": [
    {
     "data": {
      "text/plain": [
       "0.5478797338225625"
      ]
     },
     "execution_count": 89,
     "metadata": {},
     "output_type": "execute_result"
    }
   ],
   "source": [
    "np.mean(ce_f1s)"
   ]
  },
  {
   "cell_type": "code",
   "execution_count": 90,
   "metadata": {},
   "outputs": [
    {
     "data": {
      "text/plain": [
       "0.5678205239953417"
      ]
     },
     "execution_count": 90,
     "metadata": {},
     "output_type": "execute_result"
    }
   ],
   "source": [
    "np.mean(final_agg_arr)"
   ]
  },
  {
   "cell_type": "code",
   "execution_count": 51,
   "metadata": {},
   "outputs": [
    {
     "data": {
      "text/plain": [
       "0.5542642735170594"
      ]
     },
     "execution_count": 51,
     "metadata": {},
     "output_type": "execute_result"
    }
   ],
   "source": [
    "np.mean([0.5500030855337779,\n",
    " 0.5613434493541717,\n",
    " 0.5594184319178263,\n",
    " 0.5640014042456943,\n",
    " 0.565955180923144,\n",
    " 0.5613971859216689,\n",
    " 0.5553698420524598,\n",
    " 0.5554081588983536,\n",
    " 0.5500029375155767,\n",
    " 0.5422840754191081,\n",
    " 0.5317232569058736])"
   ]
  },
  {
   "cell_type": "code",
   "execution_count": 52,
   "metadata": {},
   "outputs": [
    {
     "data": {
      "text/plain": [
       "0.5598308773654881"
      ]
     },
     "execution_count": 52,
     "metadata": {},
     "output_type": "execute_result"
    }
   ],
   "source": [
    "# grid search\n",
    "np.mean([0.5478956222534179,\n",
    " 0.5574150641759237,\n",
    " 0.5535933703184127,\n",
    " 0.5615792860587436,\n",
    " 0.5609682957331339,\n",
    " 0.555631517370542,\n",
    " 0.5641472121079764,\n",
    " 0.5684819499651591,\n",
    " 0.5610714266697565,\n",
    " 0.5583472619454066,\n",
    " 0.5690086444218954])"
   ]
  },
  {
   "cell_type": "code",
   "execution_count": 53,
   "metadata": {},
   "outputs": [
    {
     "data": {
      "text/plain": [
       "0.021813443361999064"
      ]
     },
     "execution_count": 53,
     "metadata": {},
     "output_type": "execute_result"
    }
   ],
   "source": [
    "(0.5598308773654881 - 0.5478797338225625) / 0.5478797338225625"
   ]
  },
  {
   "cell_type": "code",
   "execution_count": null,
   "metadata": {},
   "outputs": [],
   "source": []
  }
 ],
 "metadata": {
  "kernelspec": {
   "display_name": "Python 3",
   "language": "python",
   "name": "python3"
  },
  "language_info": {
   "codemirror_mode": {
    "name": "ipython",
    "version": 3
   },
   "file_extension": ".py",
   "mimetype": "text/x-python",
   "name": "python",
   "nbconvert_exporter": "python",
   "pygments_lexer": "ipython3",
   "version": "3.6.9"
  }
 },
 "nbformat": 4,
 "nbformat_minor": 4
}
