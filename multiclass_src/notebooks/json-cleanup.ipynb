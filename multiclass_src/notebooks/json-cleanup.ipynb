{
 "cells": [
  {
   "cell_type": "code",
   "execution_count": 2,
   "metadata": {},
   "outputs": [],
   "source": [
    "import json \n",
    "import numpy as np \n",
    "import pandas as pd "
   ]
  },
  {
   "cell_type": "code",
   "execution_count": 3,
   "metadata": {},
   "outputs": [
    {
     "data": {
      "text/plain": [
       "'/Users/taesoodaniellee/Documents/heaviside/multiclass_src/notebooks'"
      ]
     },
     "execution_count": 3,
     "metadata": {},
     "output_type": "execute_result"
    }
   ],
   "source": [
    "pwd"
   ]
  },
  {
   "cell_type": "markdown",
   "metadata": {},
   "source": [
    "joining all results with evaluation results into a larger json"
   ]
  },
  {
   "cell_type": "code",
   "execution_count": 4,
   "metadata": {},
   "outputs": [
    {
     "name": "stdout",
     "output_type": "stream",
     "text": [
      "41\n",
      "69\n",
      "146\n",
      "40\n",
      "42\n"
     ]
    }
   ],
   "source": [
    "results_path = \"/Users/taesoodaniellee/Documents/heaviside/multiclass_src/results/old_runs\"\n",
    "output_file = \"20201122_results.json\"\n",
    "file_path1 = \"/\".join([results_path, output_file])\n",
    "with open(file_path1, \"r+\") as f1: \n",
    "    results_20201122 = json.load(f1)\n",
    "    print(len(results_20201122))\n",
    "\n",
    "output_file = \"20201123_results.json\"\n",
    "file_path2 = \"/\".join([results_path, output_file])\n",
    "with open(file_path2, \"r+\") as f2: \n",
    "    results_20201123 = json.load(f2) \n",
    "    print(len(results_20201123))\n",
    "\n",
    "output_file = \"prev.json\"\n",
    "file_path4 = \"/\".join([results_path, output_file])\n",
    "with open(file_path4, \"r+\") as f4: \n",
    "    prev_json = json.load(f4) \n",
    "    print(len(prev_json))\n",
    "    \n",
    "results_path = \"/Users/taesoodaniellee/Documents/heaviside/multiclass_src/results\"\n",
    "output_file = \"20201124_results.json\"\n",
    "file_path3 = \"/\".join([results_path, output_file])\n",
    "with open(file_path3, \"r+\") as f3: \n",
    "    results_20201124 = json.load(f3) \n",
    "    print(len(results_20201124))\n",
    "    \n",
    "output_file = \"results2.json\"\n",
    "file_path5 = \"/\".join([results_path, output_file])\n",
    "with open(file_path5, \"r+\") as f5: \n",
    "    results5 = json.load(f5) \n",
    "    print(len(results5))\n"
   ]
  },
  {
   "cell_type": "code",
   "execution_count": 5,
   "metadata": {},
   "outputs": [
    {
     "name": "stdout",
     "output_type": "stream",
     "text": [
      "--\n",
      "110\n",
      "150\n",
      "296\n",
      "338\n",
      "338\n"
     ]
    }
   ],
   "source": [
    "print(\"--\")\n",
    "results_20201122 += results_20201123\n",
    "print(len(results_20201122))\n",
    "results_20201122 += results_20201124\n",
    "print(len(results_20201122))\n",
    "results_20201122 += prev_json\n",
    "print(len(results_20201122))\n",
    "results_20201122 += results5\n",
    "print(len(results_20201122))\n",
    "total_results = results_20201122\n",
    "print(len(total_results))"
   ]
  },
  {
   "cell_type": "markdown",
   "metadata": {},
   "source": [
    "now, bringing in the evaluation jsons. "
   ]
  },
  {
   "cell_type": "code",
   "execution_count": 6,
   "metadata": {},
   "outputs": [
    {
     "name": "stdout",
     "output_type": "stream",
     "text": [
      "45\n",
      "69\n",
      "36\n",
      "40\n",
      "55\n"
     ]
    }
   ],
   "source": [
    "results_path = \"/Users/taesoodaniellee/Documents/heaviside/multiclass_src/results/old_runs\"\n",
    "output_file = \"20201122_eval.json\"\n",
    "file_path1 = \"/\".join([results_path, output_file])\n",
    "with open(file_path1, \"r+\") as f1: \n",
    "    results_20201122_e = json.load(f1)\n",
    "    print(len(results_20201122_e))\n",
    "\n",
    "output_file = \"20201123_eval.json\"\n",
    "file_path2 = \"/\".join([results_path, output_file])\n",
    "with open(file_path2, \"r+\") as f2: \n",
    "    results_20201123_e = json.load(f2) \n",
    "    print(len(results_20201123_e))\n",
    "\n",
    "output_file = \"20201124_eval.json\"\n",
    "file_path3 = \"/\".join([results_path, output_file])\n",
    "with open(file_path3, \"r+\") as f3: \n",
    "    results_20201124_e = json.load(f3) \n",
    "    print(len(results_20201124_e))\n",
    "\n",
    "output_file = \"results_eval_thresh.json\"\n",
    "file_path4 = \"/\".join([results_path, output_file])\n",
    "with open(file_path4, \"r+\") as f4: \n",
    "    res4 = json.load(f4) \n",
    "    print(len(res4))\n",
    "    \n",
    "output_file = \"trained_thresh_evaluations.json\"\n",
    "file_path5 = \"/\".join([results_path, output_file])\n",
    "with open(file_path5, \"r+\") as f5: \n",
    "    res5 = json.load(f5) \n",
    "    print(len(res5))\n"
   ]
  },
  {
   "cell_type": "code",
   "execution_count": 7,
   "metadata": {},
   "outputs": [
    {
     "name": "stdout",
     "output_type": "stream",
     "text": [
      "--\n",
      "245\n"
     ]
    }
   ],
   "source": [
    "print(\"--\")\n",
    "results_20201122_e += results_20201123_e\n",
    "results_20201122_e += results_20201124_e\n",
    "results_20201122_e += res4\n",
    "results_20201122_e += res5\n",
    "total_evals = results_20201122_e\n",
    "print(len(total_evals))"
   ]
  },
  {
   "cell_type": "code",
   "execution_count": 8,
   "metadata": {},
   "outputs": [],
   "source": [
    "for i in range(len(total_results)): \n",
    "    for eval_res in total_evals: \n",
    "        if ('run_name' in total_results[i]) and ('run' in eval_res): \n",
    "            if total_results[i]['run_name'] == eval_res['run']: \n",
    "                total_results[i]['evaluation'] = eval_res "
   ]
  },
  {
   "cell_type": "code",
   "execution_count": 10,
   "metadata": {},
   "outputs": [],
   "source": [
    "mismatch=0\n",
    "for i in range(len(total_results)): \n",
    "    if 'evaluation' not in total_results[i]: \n",
    "        mismatch +=1 "
   ]
  },
  {
   "cell_type": "code",
   "execution_count": 11,
   "metadata": {},
   "outputs": [
    {
     "data": {
      "text/plain": [
       "96"
      ]
     },
     "execution_count": 11,
     "metadata": {},
     "output_type": "execute_result"
    }
   ],
   "source": [
    "mismatch"
   ]
  },
  {
   "cell_type": "code",
   "execution_count": 27,
   "metadata": {},
   "outputs": [
    {
     "data": {
      "text/plain": [
       "338"
      ]
     },
     "execution_count": 27,
     "metadata": {},
     "output_type": "execute_result"
    }
   ],
   "source": [
    "len(total_results)"
   ]
  },
  {
   "cell_type": "code",
   "execution_count": 36,
   "metadata": {},
   "outputs": [],
   "source": [
    "def remove_dups(arr):\n",
    "    seen = []\n",
    "    for x in arr: \n",
    "        if x not in seen: \n",
    "            if 'run_name' in x: \n",
    "                if x['run_name'] not in ['testoutfile', 'None-0', 'None-0']: \n",
    "                    seen.append(x) \n",
    "    return seen "
   ]
  },
  {
   "cell_type": "code",
   "execution_count": 37,
   "metadata": {},
   "outputs": [],
   "source": [
    "new_results = remove_dups(total_results)"
   ]
  },
  {
   "cell_type": "code",
   "execution_count": 38,
   "metadata": {},
   "outputs": [
    {
     "data": {
      "text/plain": [
       "294"
      ]
     },
     "execution_count": 38,
     "metadata": {},
     "output_type": "execute_result"
    }
   ],
   "source": [
    "len(new_results)"
   ]
  },
  {
   "cell_type": "code",
   "execution_count": 41,
   "metadata": {
    "scrolled": true
   },
   "outputs": [],
   "source": [
    "# results_path = \"/Users/taesoodaniellee/Documents/heaviside/multiclass_src/results/cifar_results.json\"\n",
    "# with open(results_path, \"w\") as outfile: \n",
    "#     json.dump(new_results, outfile)"
   ]
  },
  {
   "cell_type": "code",
   "execution_count": 42,
   "metadata": {},
   "outputs": [],
   "source": []
  },
  {
   "cell_type": "markdown",
   "metadata": {},
   "source": [
    "# Analyzing "
   ]
  },
  {
   "cell_type": "code",
   "execution_count": 44,
   "metadata": {},
   "outputs": [
    {
     "name": "stdout",
     "output_type": "stream",
     "text": [
      "294\n"
     ]
    }
   ],
   "source": [
    "results_path = \"/Users/taesoodaniellee/Documents/heaviside/multiclass_src/results\"\n",
    "output_file = \"cifar_results.json\"\n",
    "fp = \"/\".join([results_path, output_file])\n",
    "with open(fp, \"r+\") as f: \n",
    "    results = json.load(f)\n",
    "    print(len(results))"
   ]
  },
  {
   "cell_type": "code",
   "execution_count": 45,
   "metadata": {},
   "outputs": [],
   "source": [
    "run_list = [x['run_name'] for x in results if 'run_name' in x]"
   ]
  },
  {
   "cell_type": "markdown",
   "metadata": {},
   "source": [
    "# imbalanced 2048 "
   ]
  },
  {
   "cell_type": "code",
   "execution_count": 50,
   "metadata": {},
   "outputs": [],
   "source": [
    "imb_2048_approx_f1_runs = ['2048-approx-f1-imb-0', '2048-approx-f1-imb-1', '2048-approx-f1-imb-2','2048-approx-f1-imb-3',\n",
    " '2048-approx-f1-imb-4','2048-approx-f1-imb-5','2048-approx-f1-imb-6','2048-approx-f1-imb-7',\n",
    " '2048-approx-f1-imb-8','2048-approx-f1-imb-9']\n",
    "\n",
    "imb_2048_ce_runs = ['2048-baseline-imb-0','2048-baseline-imb-1','2048-baseline-imb-2',\n",
    " '2048-baseline-imb-3','2048-baseline-imb-4','2048-baseline-imb-5','2048-baseline-imb-6',\n",
    " '2048-baseline-imb-7','2048-baseline-imb-8','2048-baseline-imb-9']\n",
    "\n",
    "imb_2048_wt_approx_f1_runs = ['2048-approx-f1-imb-wt-0','2048-approx-f1-imb-wt-1',\n",
    " '2048-approx-f1-imb-wt-2','2048-approx-f1-imb-wt-3','2048-approx-f1-imb-wt-4',\n",
    " '2048-approx-f1-imb-wt-5','2048-approx-f1-imb-wt-6','2048-approx-f1-imb-wt-7',\n",
    " '2048-approx-f1-imb-wt-8','2048-approx-f1-imb-wt-9',]"
   ]
  },
  {
   "cell_type": "code",
   "execution_count": 47,
   "metadata": {},
   "outputs": [],
   "source": [
    "def extract_runs_from_json(results_json, runs_array): \n",
    "    extract = [x for x in results_json if x['run_name'] in runs_array]\n",
    "    print(len(extract))\n",
    "    return extract"
   ]
  },
  {
   "cell_type": "code",
   "execution_count": 51,
   "metadata": {},
   "outputs": [
    {
     "name": "stdout",
     "output_type": "stream",
     "text": [
      "10\n",
      "10\n",
      "10\n"
     ]
    }
   ],
   "source": [
    "imb_2048_approx_f1 = extract_runs_from_json(results, imb_2048_approx_f1_runs)\n",
    "imb_2048_ce = extract_runs_from_json(results, imb_2048_ce_runs)\n",
    "imb_2048_wt_approx_f1 = extract_runs_from_json(results, imb_2048_wt_approx_f1_runs)"
   ]
  },
  {
   "cell_type": "code",
   "execution_count": 104,
   "metadata": {},
   "outputs": [],
   "source": [
    "def aggregate_runs(results_json): \n",
    "    '''Assuming each input is an array of JSONs that all have the same shape'''\n",
    "    agg = {}\n",
    "    agg[\"run\"] = '-'.join(results_json[0]['run_name'].split('-')[:-1])\n",
    "    agg['loss'] = np.mean([x['loss'] for x in results_json])\n",
    "    agg['test_wt_f1_score'] = np.mean([x['test_wt_f1_score'] for x in results_json])\n",
    "    agg['val_wt_f1_score'] = np.mean([x['val_wt_f1_score'] for x in results_json])\n",
    "    agg['test_accuracy'] = np.mean([x['test_accuracy'] for x in results_json])\n",
    "    agg['val_accuracy'] = np.mean([x['val_accuracy'] for x in results_json])\n",
    "    agg['loss_metric'] = results_json[0]['loss_metric']\n",
    "    \n",
    "    # adding in distributions. \n",
    "    train_dxns = [x['train_dxn'] for x in results_json]\n",
    "    agg['train_dxn'] = np.mean(train_dxns, axis=0)\n",
    "    test_dxns = [x['test_dxn'] for x in results_json]\n",
    "    agg['test_dxn'] = np.mean(test_dxns, axis=0)\n",
    "    valid_dxns = [x['valid_dxn'] for x in results_json]\n",
    "    agg['valid_dxn'] = np.mean(valid_dxns, axis=0)\n",
    "    \n",
    "    # adding in evaluation results. \n",
    "    # keep in mind that the evaluation distribution is evenly weighted. \n",
    "    eval_json = {}\n",
    "    taus = [0.1, 0.2, 0.3, 0.4, 0.45, 0.5, 0.55, 0.6, 0.7, 0.8, 0.9]\n",
    "    for tau in taus: \n",
    "        eval_json[str(tau)] = {}\n",
    "        eval_json[str(tau)]['mean_f1'] =  np.mean([x['evaluation'][str(tau)]['mean_f1'] for x in results_json])\n",
    "        class_f1s = [x['evaluation'][str(tau)]['class_f1s'] for x in results_json]\n",
    "        eval_json[str(tau)]['class_f1s'] = np.mean(class_f1s, axis=0)\n",
    "    agg['eval'] = eval_json\n",
    "    \n",
    "    return agg "
   ]
  },
  {
   "cell_type": "code",
   "execution_count": 106,
   "metadata": {},
   "outputs": [],
   "source": [
    "imb_2048_approx_f1_agg = aggregate_runs(imb_2048_approx_f1)\n",
    "imb_2048_ce_agg = aggregate_runs(imb_2048_ce)\n",
    "imb_2048_wt_approx_f1_agg = aggregate_runs(imb_2048_wt_approx_f1)"
   ]
  },
  {
   "cell_type": "code",
   "execution_count": 107,
   "metadata": {
    "scrolled": false
   },
   "outputs": [
    {
     "data": {
      "text/plain": [
       "{'run': '2048-approx-f1-imb',\n",
       " 'loss': 0.475086,\n",
       " 'test_wt_f1_score': 0.445702,\n",
       " 'val_wt_f1_score': 0.48222899999999996,\n",
       " 'test_accuracy': 0.44322,\n",
       " 'val_accuracy': 0.4753,\n",
       " 'loss_metric': 'approx-f1',\n",
       " 'train_dxn': array([1026271.6, 1028190.7, 1029742.2, 1028495.1, 1028165.3, 1030258.8,\n",
       "        1027245.6, 1029868.1, 1028623.4, 1030139.2]),\n",
       " 'test_dxn': array([229600., 229600., 229600., 229600., 229600., 229600., 229600.,\n",
       "        229600., 229600., 229600.]),\n",
       " 'valid_dxn': array([117239.4, 115309.7, 113754. , 115003.9, 115337.2, 113233.6,\n",
       "        116262.3, 113627. , 114878. , 113354.9]),\n",
       " 'eval': {'0.1': {'mean_f1': 0.44924984574317933,\n",
       "   'class_f1s': array([0.52405462, 0.55160717, 0.34666741, 0.31300906, 0.3940404 ,\n",
       "          0.39219911, 0.49934774, 0.50287759, 0.57751656, 0.39117877])},\n",
       "  '0.2': {'mean_f1': 0.44151652455329893,\n",
       "   'class_f1s': array([0.52726083, 0.53663333, 0.35498933, 0.30892923, 0.36609191,\n",
       "          0.38543474, 0.49395746, 0.50181458, 0.5738842 , 0.36616963])},\n",
       "  '0.3': {'mean_f1': 0.44346020817756654,\n",
       "   'class_f1s': array([0.51661169, 0.54147505, 0.34241095, 0.31451501, 0.37745065,\n",
       "          0.38407652, 0.4875789 , 0.5090317 , 0.57998079, 0.38147097])},\n",
       "  '0.4': {'mean_f1': 0.44083359837532043,\n",
       "   'class_f1s': array([0.51818629, 0.53719744, 0.34985978, 0.30871603, 0.37484303,\n",
       "          0.37634012, 0.4841449 , 0.51130578, 0.57020745, 0.3775352 ])},\n",
       "  '0.45': {'mean_f1': 0.4367113560438156,\n",
       "   'class_f1s': array([0.53016061, 0.52966462, 0.35159301, 0.31194801, 0.37177611,\n",
       "          0.37973796, 0.4858112 , 0.49693356, 0.56017973, 0.34930888])},\n",
       "  '0.5': {'mean_f1': 0.4364742934703827,\n",
       "   'class_f1s': array([0.52338327, 0.54216903, 0.35082343, 0.31128006, 0.3781218 ,\n",
       "          0.37229262, 0.47805831, 0.48207869, 0.56621974, 0.36031587])},\n",
       "  '0.55': {'mean_f1': 0.43182715177536013,\n",
       "   'class_f1s': array([0.52181997, 0.52958466, 0.33512383, 0.29850785, 0.37640253,\n",
       "          0.36993573, 0.47564624, 0.50329052, 0.54512555, 0.36283473])},\n",
       "  '0.6': {'mean_f1': 0.4317432284355164,\n",
       "   'class_f1s': array([0.5238167 , 0.53226376, 0.34282262, 0.29552932, 0.35853833,\n",
       "          0.36060568, 0.486329  , 0.4914682 , 0.56596881, 0.36008991])},\n",
       "  '0.7': {'mean_f1': 0.435761359333992,\n",
       "   'class_f1s': array([0.53242467, 0.54465336, 0.3461293 , 0.30888464, 0.35479174,\n",
       "          0.37089158, 0.4861159 , 0.4966181 , 0.56579854, 0.35130574])},\n",
       "  '0.8': {'mean_f1': 0.4283056825399399,\n",
       "   'class_f1s': array([0.50427121, 0.52915251, 0.33260683, 0.28937065, 0.35522619,\n",
       "          0.3623299 , 0.4817598 , 0.51725259, 0.5730817 , 0.33800544])},\n",
       "  '0.9': {'mean_f1': 0.4228655070066452,\n",
       "   'class_f1s': array([0.51111404, 0.53702761, 0.33409286, 0.28408271, 0.33643527,\n",
       "          0.35754842, 0.47619445, 0.49212997, 0.56712136, 0.33290835])}}}"
      ]
     },
     "execution_count": 107,
     "metadata": {},
     "output_type": "execute_result"
    }
   ],
   "source": [
    "imb_2048_approx_f1_agg"
   ]
  },
  {
   "cell_type": "code",
   "execution_count": 165,
   "metadata": {
    "scrolled": true
   },
   "outputs": [
    {
     "data": {
      "image/png": "[encoded data removed]",
      "text/plain": [
       "<Figure size 504x360 with 1 Axes>"
      ]
     },
     "metadata": {
      "needs_background": "light"
     },
     "output_type": "display_data"
    },
    {
     "data": {
      "image/png": "[encoded data removed]",
      "text/plain": [
       "<Figure size 504x360 with 1 Axes>"
      ]
     },
     "metadata": {
      "needs_background": "light"
     },
     "output_type": "display_data"
    },
    {
     "data": {
      "image/png": "[encoded data removed]",
      "text/plain": [
       "<Figure size 504x360 with 1 Axes>"
      ]
     },
     "metadata": {
      "needs_background": "light"
     },
     "output_type": "display_data"
    },
    {
     "data": {
      "image/png": "[encoded data removed]",
      "text/plain": [
       "<Figure size 504x360 with 1 Axes>"
      ]
     },
     "metadata": {
      "needs_background": "light"
     },
     "output_type": "display_data"
    }
   ],
   "source": [
    "import matplotlib.pyplot as plt\n",
    "plt.rcParams[\"figure.figsize\"] = (7,5)\n",
    "# plot the mean f1's across the taus \n",
    "taus = [0.1, 0.2, 0.3, 0.4, 0.45, 0.5, 0.55, 0.6, 0.7, 0.8, 0.9]\n",
    "eval_res = imb_2048_approx_f1_agg['eval']\n",
    "mean_f1s = [eval_res[x]['mean_f1'] for x in eval_res]\n",
    "plt.title(\"2048-Approx-F1-IMB, Eval Taus vs. Mean F1's\")\n",
    "plt.xlabel(\"Evaluation Tau's\")\n",
    "plt.ylabel(\"Mean F1\")\n",
    "plt.plot(taus,mean_f1s)\n",
    "plt.show()\n",
    "\n",
    "# Plotting for Class 0.1 \n",
    "classes = [x for x in range(1,11)]\n",
    "class_0_1_f1s = imb_2048_approx_f1_agg['eval']['0.1']['class_f1s']\n",
    "plt.plot(classes,class_0_1_f1s, label=\"eval tau=0.1\")\n",
    "class_0_2_f1s = imb_2048_approx_f1_agg['eval']['0.2']['class_f1s']\n",
    "plt.plot(classes,class_0_2_f1s, label=\"eval tau=0.2\")\n",
    "class_0_3_f1s = imb_2048_approx_f1_agg['eval']['0.3']['class_f1s']\n",
    "plt.plot(classes,class_0_3_f1s, label=\"eval tau=0.3\")\n",
    "\n",
    "plt.title(\"Mean F1s vs. Eval Taus (0.1-0.3), 2048-Approx-F1-IMB\")\n",
    "plt.xlabel(\"Classes\")\n",
    "plt.ylabel(\"Mean F1\")\n",
    "plt.grid()\n",
    "plt.legend()\n",
    "plt.show()\n",
    "\n",
    "# VALID DISTRIBUTION \n",
    "heights = imb_2048_approx_f1_agg['valid_dxn']\n",
    "classes = [x for x in range(1,11)]\n",
    "plt.ylim(min(heights)-100, max(heights)+100)\n",
    "plt.bar(classes, heights)\n",
    "\n",
    "plt.xlabel(\"Classes\")\n",
    "plt.ylabel(\"Observations\")\n",
    "plt.title(\"Valid Distribution across Classes\")\n",
    "plt.grid()\n",
    "plt.show()\n",
    "\n",
    "# TRAIN DISTRIBUTION \n",
    "heights = imb_2048_approx_f1_agg['train_dxn']\n",
    "classes = [x for x in range(1,11)]\n",
    "plt.ylim(1020000, 1040000)\n",
    "plt.xlabel(\"Classes\")\n",
    "plt.ylabel(\"Observations\")\n",
    "plt.title(\"Training Distribution across Classes\")\n",
    "plt.bar(classes, heights)\n",
    "plt.grid()\n",
    "plt.show()"
   ]
  },
  {
   "cell_type": "code",
   "execution_count": 126,
   "metadata": {},
   "outputs": [
    {
     "data": {
      "image/png": "[encoded data removed]",
      "text/plain": [
       "<Figure size 504x360 with 1 Axes>"
      ]
     },
     "metadata": {
      "needs_background": "light"
     },
     "output_type": "display_data"
    }
   ],
   "source": [
    "import matplotlib.pyplot as plt\n",
    "plt.rcParams[\"figure.figsize\"] = (7,5)\n",
    "# plot the mean f1's across the taus \n",
    "taus = [0.1, 0.2, 0.3, 0.4, 0.45, 0.5, 0.55, 0.6, 0.7, 0.8, 0.9]\n",
    "eval_res = imb_2048_wt_approx_f1_agg['eval']\n",
    "mean_f1s = [eval_res[x]['mean_f1'] for x in eval_res]\n",
    "plt.title(\"2048, Imbalanced, Wt-Approx-F1, Eval Taus vs. Mean F1's\")\n",
    "plt.xlabel(\"Evaluation Tau's\")\n",
    "plt.ylabel(\"Mean F1\")\n",
    "plt.plot(taus,mean_f1s)\n",
    "plt.show()"
   ]
  },
  {
   "cell_type": "code",
   "execution_count": 127,
   "metadata": {},
   "outputs": [
    {
     "data": {
      "image/png": "[encoded data removed]",
      "text/plain": [
       "<Figure size 504x360 with 1 Axes>"
      ]
     },
     "metadata": {
      "needs_background": "light"
     },
     "output_type": "display_data"
    }
   ],
   "source": [
    "import matplotlib.pyplot as plt\n",
    "plt.rcParams[\"figure.figsize\"] = (7,5)\n",
    "# plot the mean f1's across the taus \n",
    "taus = [0.1, 0.2, 0.3, 0.4, 0.45, 0.5, 0.55, 0.6, 0.7, 0.8, 0.9]\n",
    "eval_res = imb_2048_ce_agg['eval']\n",
    "mean_f1s = [eval_res[x]['mean_f1'] for x in eval_res]\n",
    "plt.title(\"2048, Imbalanced, CE, Eval Taus vs. Mean F1's\")\n",
    "plt.xlabel(\"Evaluation Tau's\")\n",
    "plt.ylabel(\"Mean F1\")\n",
    "plt.plot(taus,mean_f1s)\n",
    "plt.show()"
   ]
  },
  {
   "cell_type": "code",
   "execution_count": null,
   "metadata": {},
   "outputs": [],
   "source": []
  },
  {
   "cell_type": "code",
   "execution_count": null,
   "metadata": {},
   "outputs": [],
   "source": []
  },
  {
   "cell_type": "code",
   "execution_count": null,
   "metadata": {},
   "outputs": [],
   "source": [
    "# look at valid, train, and test distributions \n"
   ]
  },
  {
   "cell_type": "code",
   "execution_count": null,
   "metadata": {},
   "outputs": [],
   "source": [
    "# plot the class f1's across the taus "
   ]
  },
  {
   "cell_type": "code",
   "execution_count": null,
   "metadata": {},
   "outputs": [],
   "source": []
  },
  {
   "cell_type": "code",
   "execution_count": null,
   "metadata": {},
   "outputs": [],
   "source": []
  },
  {
   "cell_type": "code",
   "execution_count": 43,
   "metadata": {
    "scrolled": false
   },
   "outputs": [
    {
     "data": {
      "text/plain": [
       "['1024-approx-f1-imb-0',\n",
       " '1024-approx-f1-imb-1',\n",
       " '1024-approx-f1-imb-2',\n",
       " '1024-approx-f1-imb-3',\n",
       " '1024-approx-f1-imb-4',\n",
       " '1024-approx-f1-imb-5',\n",
       " '1024-approx-f1-imb-6',\n",
       " '1024-approx-f1-imb-7',\n",
       " '1024-approx-f1-imb-8',\n",
       " '1024-approx-f1-imb-9',\n",
       " '1024-approx-f1-imb-wt-0',\n",
       " '1024-approx-f1-imb-wt-1',\n",
       " '1024-approx-f1-imb-wt-2',\n",
       " '1024-approx-f1-imb-wt-3',\n",
       " '1024-approx-f1-imb-wt-4',\n",
       " '1024-approx-f1-imb-wt-5',\n",
       " '1024-approx-f1-imb-wt-6',\n",
       " '1024-approx-f1-imb-wt-7',\n",
       " '1024-approx-f1-imb-wt-8',\n",
       " '1024-approx-f1-imb-wt-9',\n",
       " '1024-approx-f1-regular-0',\n",
       " '1024-approx-f1-regular-1',\n",
       " '1024-approx-f1-regular-2',\n",
       " '1024-approx-f1-regular-3',\n",
       " '1024-approx-f1-regular-4',\n",
       " '1024-approx-f1-regular-5',\n",
       " '1024-approx-f1-regular-6',\n",
       " '1024-approx-f1-regular-7',\n",
       " '1024-approx-f1-regular-8',\n",
       " '1024-approx-f1-regular-9',\n",
       " '1024-approx-f1-regular-wt-0',\n",
       " '1024-approx-f1-regular-wt-1',\n",
       " '1024-approx-f1-regular-wt-2',\n",
       " '1024-approx-f1-regular-wt-3',\n",
       " '1024-approx-f1-regular-wt-4',\n",
       " '1024-approx-f1-regular-wt-5',\n",
       " '1024-approx-f1-regular-wt-6',\n",
       " '1024-approx-f1-regular-wt-7',\n",
       " '1024-approx-f1-regular-wt-8',\n",
       " '1024-approx-f1-regular-wt-9',\n",
       " '1024-baseline-ce-0',\n",
       " '1024-baseline-ce-1',\n",
       " '1024-baseline-ce-2',\n",
       " '1024-baseline-ce-3',\n",
       " '1024-baseline-ce-4',\n",
       " '1024-baseline-ce-5',\n",
       " '1024-baseline-ce-6',\n",
       " '1024-baseline-ce-7',\n",
       " '1024-baseline-ce-8',\n",
       " '1024-baseline-ce-9',\n",
       " '1024-baseline-imb-0',\n",
       " '1024-baseline-imb-1',\n",
       " '1024-baseline-imb-2',\n",
       " '1024-baseline-imb-3',\n",
       " '1024-baseline-imb-4',\n",
       " '1024-baseline-imb-5',\n",
       " '1024-baseline-imb-6',\n",
       " '1024-baseline-imb-7',\n",
       " '1024-baseline-imb-8',\n",
       " '1024-baseline-imb-9',\n",
       " '2048-approx-f1-imb-0',\n",
       " '2048-approx-f1-imb-1',\n",
       " '2048-approx-f1-imb-2',\n",
       " '2048-approx-f1-imb-3',\n",
       " '2048-approx-f1-imb-4',\n",
       " '2048-approx-f1-imb-5',\n",
       " '2048-approx-f1-imb-6',\n",
       " '2048-approx-f1-imb-7',\n",
       " '2048-approx-f1-imb-8',\n",
       " '2048-approx-f1-imb-9',\n",
       " '2048-approx-f1-imb-wt-0',\n",
       " '2048-approx-f1-imb-wt-1',\n",
       " '2048-approx-f1-imb-wt-2',\n",
       " '2048-approx-f1-imb-wt-3',\n",
       " '2048-approx-f1-imb-wt-4',\n",
       " '2048-approx-f1-imb-wt-5',\n",
       " '2048-approx-f1-imb-wt-6',\n",
       " '2048-approx-f1-imb-wt-7',\n",
       " '2048-approx-f1-imb-wt-8',\n",
       " '2048-approx-f1-imb-wt-9',\n",
       " '2048-approx-f1-reg-0',\n",
       " '2048-approx-f1-reg-1',\n",
       " '2048-approx-f1-reg-2',\n",
       " '2048-approx-f1-reg-3',\n",
       " '2048-approx-f1-reg-4',\n",
       " '2048-approx-f1-reg-5',\n",
       " '2048-approx-f1-reg-6',\n",
       " '2048-approx-f1-reg-7',\n",
       " '2048-approx-f1-reg-8',\n",
       " '2048-approx-f1-reg-9',\n",
       " '2048-baseline-ce-reg-0',\n",
       " '2048-baseline-ce-reg-1',\n",
       " '2048-baseline-ce-reg-2',\n",
       " '2048-baseline-ce-reg-3',\n",
       " '2048-baseline-ce-reg-4',\n",
       " '2048-baseline-ce-reg-5',\n",
       " '2048-baseline-ce-reg-6',\n",
       " '2048-baseline-ce-reg-7',\n",
       " '2048-baseline-ce-reg-8',\n",
       " '2048-baseline-ce-reg-9',\n",
       " '2048-baseline-imb-0',\n",
       " '2048-baseline-imb-1',\n",
       " '2048-baseline-imb-2',\n",
       " '2048-baseline-imb-3',\n",
       " '2048-baseline-imb-4',\n",
       " '2048-baseline-imb-5',\n",
       " '2048-baseline-imb-6',\n",
       " '2048-baseline-imb-7',\n",
       " '2048-baseline-imb-8',\n",
       " '2048-baseline-imb-9',\n",
       " '512-approx-f1-imb-0',\n",
       " '512-approx-f1-imb-0',\n",
       " '512-approx-f1-imb-1',\n",
       " '512-approx-f1-imb-1',\n",
       " '512-approx-f1-imb-2',\n",
       " '512-approx-f1-imb-2',\n",
       " '512-approx-f1-imb-3',\n",
       " '512-approx-f1-imb-3',\n",
       " '512-approx-f1-imb-4',\n",
       " '512-approx-f1-imb-4',\n",
       " '512-approx-f1-imb-5',\n",
       " '512-approx-f1-imb-6',\n",
       " '512-approx-f1-imb-7',\n",
       " '512-approx-f1-imb-8',\n",
       " '512-approx-f1-imb-9',\n",
       " '512-approx-f1-reg-0',\n",
       " '512-approx-f1-reg-1',\n",
       " '512-approx-f1-reg-2',\n",
       " '512-approx-f1-reg-3',\n",
       " '512-approx-f1-reg-4',\n",
       " '512-approx-f1-reg-5',\n",
       " '512-approx-f1-reg-6',\n",
       " '512-approx-f1-reg-7',\n",
       " '512-approx-f1-reg-8',\n",
       " '512-approx-f1-reg-9',\n",
       " '512-baseline-ce-imb-0',\n",
       " '512-baseline-ce-imb-1',\n",
       " '512-baseline-ce-imb-2',\n",
       " '512-baseline-ce-imb-3',\n",
       " '512-baseline-ce-imb-4',\n",
       " '512-baseline-ce-imb-5',\n",
       " '512-baseline-ce-imb-6',\n",
       " '512-baseline-ce-imb-7',\n",
       " '512-baseline-ce-imb-8',\n",
       " '512-baseline-ce-imb-9',\n",
       " '512-baseline-ce-reg-0',\n",
       " '512-baseline-ce-reg-1',\n",
       " '512-baseline-ce-reg-2',\n",
       " '512-baseline-ce-reg-3',\n",
       " '512-baseline-ce-reg-4',\n",
       " '512-baseline-ce-reg-5',\n",
       " '512-baseline-ce-reg-6',\n",
       " '512-baseline-ce-reg-7',\n",
       " '512-baseline-ce-reg-8',\n",
       " '512-baseline-ce-reg-9',\n",
       " 'approx-f1-imb-eval-0',\n",
       " 'approx-f1-imb-eval-1',\n",
       " 'approx-f1-imb-eval-2',\n",
       " 'approx-f1-imb-eval-3',\n",
       " 'approx-f1-imb-eval-4',\n",
       " 'approx-f1-imb-eval-5',\n",
       " 'approx-f1-imb-eval-6',\n",
       " 'approx-f1-imb-eval-7',\n",
       " 'approx-f1-imb-eval-8',\n",
       " 'approx-f1-imb-eval-9',\n",
       " 'approx-f1-reg-0',\n",
       " 'approx-f1-reg-1',\n",
       " 'approx-f1-reg-2',\n",
       " 'approx-f1-reg-3',\n",
       " 'approx-f1-reg-4',\n",
       " 'approx-f1-reg-5',\n",
       " 'approx-f1-reg-6',\n",
       " 'approx-f1-reg-7',\n",
       " 'approx-f1-reg-8',\n",
       " 'approx-f1-reg-9',\n",
       " 'approx-f1-train_0.1-0',\n",
       " 'approx-f1-train_0.1-1',\n",
       " 'approx-f1-train_0.1-2',\n",
       " 'approx-f1-train_0.1-3',\n",
       " 'approx-f1-train_0.1-4',\n",
       " 'approx-f1-train_0.2-0',\n",
       " 'approx-f1-train_0.2-1',\n",
       " 'approx-f1-train_0.2-2',\n",
       " 'approx-f1-train_0.2-3',\n",
       " 'approx-f1-train_0.2-4',\n",
       " 'approx-f1-train_0.3-0',\n",
       " 'approx-f1-train_0.3-1',\n",
       " 'approx-f1-train_0.3-2',\n",
       " 'approx-f1-train_0.3-3',\n",
       " 'approx-f1-train_0.3-4',\n",
       " 'approx-f1-train_0.4-0',\n",
       " 'approx-f1-train_0.4-1',\n",
       " 'approx-f1-train_0.4-2',\n",
       " 'approx-f1-train_0.4-3',\n",
       " 'approx-f1-train_0.4-4',\n",
       " 'approx-f1-train_0.45-0',\n",
       " 'approx-f1-train_0.45-1',\n",
       " 'approx-f1-train_0.45-2',\n",
       " 'approx-f1-train_0.45-3',\n",
       " 'approx-f1-train_0.45-4',\n",
       " 'approx-f1-train_0.5-0',\n",
       " 'approx-f1-train_0.5-1',\n",
       " 'approx-f1-train_0.5-2',\n",
       " 'approx-f1-train_0.5-3',\n",
       " 'approx-f1-train_0.5-4',\n",
       " 'approx-f1-train_0.55-0',\n",
       " 'approx-f1-train_0.55-1',\n",
       " 'approx-f1-train_0.55-2',\n",
       " 'approx-f1-train_0.55-3',\n",
       " 'approx-f1-train_0.55-4',\n",
       " 'approx-f1-train_0.6-0',\n",
       " 'approx-f1-train_0.6-1',\n",
       " 'approx-f1-train_0.6-2',\n",
       " 'approx-f1-train_0.6-3',\n",
       " 'approx-f1-train_0.6-4',\n",
       " 'approx-f1-train_0.7-0',\n",
       " 'approx-f1-train_0.7-1',\n",
       " 'approx-f1-train_0.7-2',\n",
       " 'approx-f1-train_0.7-3',\n",
       " 'approx-f1-train_0.7-4',\n",
       " 'approx-f1-train_0.8-0',\n",
       " 'approx-f1-train_0.8-1',\n",
       " 'approx-f1-train_0.8-2',\n",
       " 'approx-f1-train_0.8-3',\n",
       " 'approx-f1-train_0.8-4',\n",
       " 'approx-f1-train_0.9-0',\n",
       " 'approx-f1-train_0.9-1',\n",
       " 'approx-f1-train_0.9-2',\n",
       " 'approx-f1-train_0.9-3',\n",
       " 'approx-f1-train_0.9-4',\n",
       " 'baseline-ce-imb-eval-0',\n",
       " 'baseline-ce-imb-eval-1',\n",
       " 'baseline-ce-imb-eval-2',\n",
       " 'baseline-ce-imb-eval-3',\n",
       " 'baseline-ce-imb-eval-4',\n",
       " 'baseline-ce-imb-eval-5',\n",
       " 'baseline-ce-imb-eval-6',\n",
       " 'baseline-ce-imb-eval-7',\n",
       " 'baseline-ce-imb-eval-8',\n",
       " 'baseline-ce-imb-eval-9',\n",
       " 'baseline-ce-reg-0',\n",
       " 'baseline-ce-reg-1',\n",
       " 'baseline-ce-reg-2',\n",
       " 'baseline-ce-reg-3',\n",
       " 'baseline-ce-reg-4',\n",
       " 'baseline-ce-reg-5',\n",
       " 'baseline-ce-reg-6',\n",
       " 'baseline-ce-reg-7',\n",
       " 'baseline-ce-reg-8',\n",
       " 'baseline-ce-reg-9',\n",
       " 'run1-1024-baseline-ce-reg-0',\n",
       " 'run1-1024-baseline-ce-reg-1',\n",
       " 'run1-1024-baseline-ce-reg-5',\n",
       " 'run1-1024-baseline-ce-reg-6',\n",
       " 'run2-1024-approx-f1-imb-0',\n",
       " 'run2-1024-approx-f1-imb-1',\n",
       " 'run2-1024-approx-f1-imb-2',\n",
       " 'run2-1024-approx-f1-imb-3',\n",
       " 'run2-1024-approx-f1-imb-4',\n",
       " 'run2-1024-approx-f1-imb-5',\n",
       " 'run2-1024-approx-f1-imb-6',\n",
       " 'run2-1024-approx-f1-imb-7',\n",
       " 'run2-1024-approx-f1-imb-8',\n",
       " 'run2-1024-approx-f1-imb-9',\n",
       " 'run2-1024-approx-f1-reg-0',\n",
       " 'run2-1024-approx-f1-reg-1',\n",
       " 'run2-1024-approx-f1-reg-2',\n",
       " 'run2-1024-approx-f1-reg-3',\n",
       " 'run2-1024-approx-f1-reg-4',\n",
       " 'run2-1024-approx-f1-reg-5',\n",
       " 'run2-1024-approx-f1-reg-6',\n",
       " 'run2-1024-approx-f1-reg-7',\n",
       " 'run2-1024-approx-f1-reg-8',\n",
       " 'run2-1024-approx-f1-reg-9',\n",
       " 'run2-1024-baseline-ce-reg-0',\n",
       " 'run2-1024-baseline-ce-reg-1',\n",
       " 'run2-1024-baseline-ce-reg-2',\n",
       " 'run2-1024-baseline-ce-reg-3',\n",
       " 'run2-1024-baseline-ce-reg-4',\n",
       " 'run2-1024-baseline-ce-reg-5',\n",
       " 'run2-1024-baseline-ce-reg-6',\n",
       " 'run2-1024-baseline-ce-reg-7',\n",
       " 'run2-1024-baseline-ce-reg-8',\n",
       " 'run2-1024-baseline-ce-reg-9',\n",
       " 'run2-1024-baseline-imb-0',\n",
       " 'run2-1024-baseline-imb-1',\n",
       " 'run2-1024-baseline-imb-2',\n",
       " 'run2-1024-baseline-imb-3',\n",
       " 'run2-1024-baseline-imb-4',\n",
       " 'run2-1024-baseline-imb-5',\n",
       " 'run2-1024-baseline-imb-6',\n",
       " 'run2-1024-baseline-imb-7',\n",
       " 'run2-1024-baseline-imb-8',\n",
       " 'run2-1024-baseline-imb-9']"
      ]
     },
     "execution_count": 43,
     "metadata": {},
     "output_type": "execute_result"
    }
   ],
   "source": [
    "sorted(run_list)"
   ]
  },
  {
   "cell_type": "code",
   "execution_count": null,
   "metadata": {},
   "outputs": [],
   "source": []
  }
 ],
 "metadata": {
  "kernelspec": {
   "display_name": "Python 3",
   "language": "python",
   "name": "python3"
  },
  "language_info": {
   "codemirror_mode": {
    "name": "ipython",
    "version": 3
   },
   "file_extension": ".py",
   "mimetype": "text/x-python",
   "name": "python",
   "nbconvert_exporter": "python",
   "pygments_lexer": "ipython3",
   "version": "3.8.5"
  }
 },
 "nbformat": 4,
 "nbformat_minor": 4
}
