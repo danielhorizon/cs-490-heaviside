{
 "cells": [
  {
   "cell_type": "code",
   "execution_count": 1,
   "metadata": {},
   "outputs": [],
   "source": [
    "import json \n",
    "import numpy as np \n",
    "import pandas as pd "
   ]
  },
  {
   "cell_type": "code",
   "execution_count": 2,
   "metadata": {},
   "outputs": [
    {
     "data": {
      "text/plain": [
       "'/Users/taesoodaniellee/Documents/heaviside/multiclass_src/notebooks'"
      ]
     },
     "execution_count": 2,
     "metadata": {},
     "output_type": "execute_result"
    }
   ],
   "source": [
    "pwd"
   ]
  },
  {
   "cell_type": "markdown",
   "metadata": {},
   "source": [
    "joining all results with evaluation results into a larger json"
   ]
  },
  {
   "cell_type": "code",
   "execution_count": 67,
   "metadata": {},
   "outputs": [
    {
     "name": "stdout",
     "output_type": "stream",
     "text": [
      "41\n",
      "69\n",
      "37\n",
      "146\n"
     ]
    }
   ],
   "source": [
    "results_path = \"/Users/taesoodaniellee/Documents/heaviside/multiclass_src/results/old_runs\"\n",
    "output_file = \"20201122_results.json\"\n",
    "file_path1 = \"/\".join([results_path, output_file])\n",
    "with open(file_path1, \"r+\") as f1: \n",
    "    results_20201122 = json.load(f1)\n",
    "    print(len(results_20201122))\n",
    "\n",
    "output_file = \"20201123_results.json\"\n",
    "file_path2 = \"/\".join([results_path, output_file])\n",
    "with open(file_path2, \"r+\") as f2: \n",
    "    results_20201123 = json.load(f2) \n",
    "    print(len(results_20201123))\n",
    "\n",
    "output_file = \"20201124_results.json\"\n",
    "file_path3 = \"/\".join([results_path, output_file])\n",
    "with open(file_path3, \"r+\") as f3: \n",
    "    results_20201124 = json.load(f3) \n",
    "    print(len(results_20201124))\n",
    "\n",
    "output_file = \"prev.json\"\n",
    "file_path4 = \"/\".join([results_path, output_file])\n",
    "with open(file_path4, \"r+\") as f4: \n",
    "    prev_json = json.load(f4) \n",
    "    print(len(prev_json))\n"
   ]
  },
  {
   "cell_type": "code",
   "execution_count": 68,
   "metadata": {},
   "outputs": [
    {
     "name": "stdout",
     "output_type": "stream",
     "text": [
      "--\n",
      "110\n",
      "147\n",
      "293\n",
      "293\n"
     ]
    }
   ],
   "source": [
    "print(\"--\")\n",
    "results_20201122 += results_20201123\n",
    "print(len(results_20201122))\n",
    "results_20201122 += results_20201124\n",
    "print(len(results_20201122))\n",
    "results_20201122 += prev_json\n",
    "print(len(results_20201122))\n",
    "total_results = results_20201122\n",
    "print(len(total_results))"
   ]
  },
  {
   "cell_type": "markdown",
   "metadata": {},
   "source": [
    "now, bringing in the evaluation jsons. "
   ]
  },
  {
   "cell_type": "code",
   "execution_count": 69,
   "metadata": {},
   "outputs": [
    {
     "name": "stdout",
     "output_type": "stream",
     "text": [
      "45\n",
      "69\n",
      "36\n",
      "40\n",
      "55\n"
     ]
    }
   ],
   "source": [
    "results_path = \"/Users/taesoodaniellee/Documents/heaviside/multiclass_src/results/old_runs\"\n",
    "output_file = \"20201122_eval.json\"\n",
    "file_path1 = \"/\".join([results_path, output_file])\n",
    "with open(file_path1, \"r+\") as f1: \n",
    "    results_20201122_e = json.load(f1)\n",
    "    print(len(results_20201122_e))\n",
    "\n",
    "output_file = \"20201123_eval.json\"\n",
    "file_path2 = \"/\".join([results_path, output_file])\n",
    "with open(file_path2, \"r+\") as f2: \n",
    "    results_20201123_e = json.load(f2) \n",
    "    print(len(results_20201123_e))\n",
    "\n",
    "output_file = \"20201124_eval.json\"\n",
    "file_path3 = \"/\".join([results_path, output_file])\n",
    "with open(file_path3, \"r+\") as f3: \n",
    "    results_20201124_e = json.load(f3) \n",
    "    print(len(results_20201124_e))\n",
    "\n",
    "output_file = \"results_eval_thresh.json\"\n",
    "file_path4 = \"/\".join([results_path, output_file])\n",
    "with open(file_path4, \"r+\") as f4: \n",
    "    res4 = json.load(f4) \n",
    "    print(len(res4))\n",
    "    \n",
    "output_file = \"trained_thresh_evaluations.json\"\n",
    "file_path5 = \"/\".join([results_path, output_file])\n",
    "with open(file_path5, \"r+\") as f5: \n",
    "    res5 = json.load(f5) \n",
    "    print(len(res5))\n"
   ]
  },
  {
   "cell_type": "code",
   "execution_count": 70,
   "metadata": {},
   "outputs": [
    {
     "name": "stdout",
     "output_type": "stream",
     "text": [
      "--\n",
      "245\n"
     ]
    }
   ],
   "source": [
    "print(\"--\")\n",
    "results_20201122_e += results_20201123_e\n",
    "results_20201122_e += results_20201124_e\n",
    "results_20201122_e += res4\n",
    "results_20201122_e += res5\n",
    "total_evals = results_20201122_e\n",
    "print(len(total_evals))"
   ]
  },
  {
   "cell_type": "code",
   "execution_count": 71,
   "metadata": {},
   "outputs": [],
   "source": [
    "\n",
    "for i in range(len(total_results)): \n",
    "    for eval_res in total_evals: \n",
    "        if ('run_name' in total_results[i]) and ('run' in eval_res): \n",
    "            if total_results[i]['run_name'] == eval_res['run']: \n",
    "                total_results[i]['evaluation'] = eval_res \n"
   ]
  },
  {
   "cell_type": "code",
   "execution_count": 74,
   "metadata": {},
   "outputs": [
    {
     "ename": "KeyError",
     "evalue": "'evaluation'",
     "output_type": "error",
     "traceback": [
      "\u001b[0;31m---------------------------------------------------------------------------\u001b[0m",
      "\u001b[0;31mKeyError\u001b[0m                                  Traceback (most recent call last)",
      "\u001b[0;32m<ipython-input-74-52c17fd720ca>\u001b[0m in \u001b[0;36m<module>\u001b[0;34m\u001b[0m\n\u001b[1;32m      1\u001b[0m \u001b[0mmismatch\u001b[0m\u001b[0;34m=\u001b[0m\u001b[0;36m0\u001b[0m\u001b[0;34m\u001b[0m\u001b[0;34m\u001b[0m\u001b[0m\n\u001b[1;32m      2\u001b[0m \u001b[0;32mfor\u001b[0m \u001b[0mi\u001b[0m \u001b[0;32min\u001b[0m \u001b[0mrange\u001b[0m\u001b[0;34m(\u001b[0m\u001b[0mlen\u001b[0m\u001b[0;34m(\u001b[0m\u001b[0mtotal_results\u001b[0m\u001b[0;34m)\u001b[0m\u001b[0;34m)\u001b[0m\u001b[0;34m:\u001b[0m\u001b[0;34m\u001b[0m\u001b[0;34m\u001b[0m\u001b[0m\n\u001b[0;32m----> 3\u001b[0;31m     \u001b[0;32mif\u001b[0m \u001b[0mtotal_results\u001b[0m\u001b[0;34m[\u001b[0m\u001b[0mi\u001b[0m\u001b[0;34m]\u001b[0m\u001b[0;34m[\u001b[0m\u001b[0;34m'evaluation'\u001b[0m\u001b[0;34m]\u001b[0m \u001b[0;34m==\u001b[0m \u001b[0;32mNone\u001b[0m\u001b[0;34m:\u001b[0m\u001b[0;34m\u001b[0m\u001b[0;34m\u001b[0m\u001b[0m\n\u001b[0m\u001b[1;32m      4\u001b[0m         \u001b[0mmismatch\u001b[0m \u001b[0;34m+=\u001b[0m\u001b[0;36m1\u001b[0m\u001b[0;34m\u001b[0m\u001b[0;34m\u001b[0m\u001b[0m\n",
      "\u001b[0;31mKeyError\u001b[0m: 'evaluation'"
     ]
    }
   ],
   "source": [
    "mismatch=0\n",
    "for i in range(len(total_results)): \n",
    "    if 'evaluation' not in total[]\n",
    "    if total_results[i]['evaluation'] == None: \n",
    "        mismatch +=1 "
   ]
  },
  {
   "cell_type": "code",
   "execution_count": 65,
   "metadata": {
    "scrolled": true
   },
   "outputs": [],
   "source": [
    "# results_path = \"/Users/taesoodaniellee/Documents/heaviside/multiclass_src/results/cifar_results.json\"\n",
    "# with open(results_path, \"w\") as outfile: \n",
    "#     json.dump(total_results, outfile)"
   ]
  },
  {
   "cell_type": "code",
   "execution_count": 21,
   "metadata": {},
   "outputs": [],
   "source": [
    "run_list = [x['run_name'] for x in results_20201122 if 'run_name' in x]"
   ]
  },
  {
   "cell_type": "code",
   "execution_count": 28,
   "metadata": {},
   "outputs": [],
   "source": [
    "results_path = \"/Users/taesoodaniellee/Documents/heaviside/multiclass_src/results\"\n",
    "output_file = \"20201122_eval.json\"\n",
    "file_path = \"/\".join([results_path, output_file])\n",
    "with open(file_path, \"r+\") as f: \n",
    "    results_20201122_eval = json.load(f) "
   ]
  },
  {
   "cell_type": "code",
   "execution_count": 33,
   "metadata": {},
   "outputs": [],
   "source": [
    "for i in range(len(results_20201122)): \n",
    "    for eval_res in results_20201122_eval: \n",
    "        if ('run_name' in results_20201122[i]) and ('run' in eval_res): \n",
    "            if results_20201122[i]['run_name'] == eval_res['run']: \n",
    "                results_20201122[i]['evaluation'] = eval_res"
   ]
  },
  {
   "cell_type": "code",
   "execution_count": 35,
   "metadata": {},
   "outputs": [
    {
     "data": {
      "text/plain": [
       "['2048-approx-f1-imb-0',\n",
       " '2048-approx-f1-imb-1',\n",
       " '2048-approx-f1-imb-2',\n",
       " '2048-approx-f1-imb-3',\n",
       " '2048-approx-f1-imb-4',\n",
       " '2048-approx-f1-imb-5',\n",
       " '2048-approx-f1-imb-6',\n",
       " '2048-approx-f1-imb-7',\n",
       " '2048-approx-f1-imb-8',\n",
       " '2048-approx-f1-imb-9',\n",
       " '2048-baseline-imb-0',\n",
       " '2048-baseline-imb-1',\n",
       " '2048-baseline-imb-2',\n",
       " '2048-baseline-imb-3',\n",
       " '2048-baseline-imb-4',\n",
       " '2048-baseline-imb-5',\n",
       " '2048-baseline-imb-6',\n",
       " '2048-baseline-imb-7',\n",
       " '2048-baseline-imb-8',\n",
       " '2048-baseline-imb-9',\n",
       " 'run2-1024-approx-f1-imb-0',\n",
       " 'run2-1024-approx-f1-imb-1',\n",
       " 'run2-1024-approx-f1-imb-2',\n",
       " 'run2-1024-approx-f1-imb-3',\n",
       " 'run2-1024-approx-f1-imb-4',\n",
       " 'run2-1024-approx-f1-imb-5',\n",
       " 'run2-1024-approx-f1-imb-6',\n",
       " 'run2-1024-approx-f1-imb-7',\n",
       " 'run2-1024-approx-f1-imb-8',\n",
       " 'run2-1024-approx-f1-imb-9',\n",
       " 'run2-1024-baseline-imb-0',\n",
       " 'run2-1024-baseline-imb-1',\n",
       " 'run2-1024-baseline-imb-2',\n",
       " 'run2-1024-baseline-imb-3',\n",
       " 'run2-1024-baseline-imb-4',\n",
       " 'run2-1024-baseline-imb-5',\n",
       " 'run2-1024-baseline-imb-6',\n",
       " 'run2-1024-baseline-imb-7',\n",
       " 'run2-1024-baseline-imb-8',\n",
       " 'run2-1024-baseline-imb-9']"
      ]
     },
     "execution_count": 35,
     "metadata": {},
     "output_type": "execute_result"
    }
   ],
   "source": [
    "run_list"
   ]
  },
  {
   "cell_type": "code",
   "execution_count": 36,
   "metadata": {},
   "outputs": [],
   "source": [
    "\n",
    "results_path = \"/Users/taesoodaniellee/Documents/heaviside/multiclass_src/results\"\n",
    "output_file = \"20201123_eval.json\"\n",
    "file_path = \"/\".join([results_path, output_file])\n",
    "with open(file_path, \"r+\") as f: \n",
    "    results_20201123_eval = json.load(f) \n",
    "    \n",
    "for i in range(len(results_20201123)): \n",
    "    for eval_res in results_20201123_eval: \n",
    "        if ('run_name' in results_20201123[i]) and ('run' in eval_res): \n",
    "            if results_20201123[i]['run_name'] == eval_res['run']: \n",
    "                results_20201123[i]['evaluation'] = eval_res\n",
    "\n",
    "run_list = [x['run_name'] for x in results_20201123 if 'run_name' in x]"
   ]
  },
  {
   "cell_type": "code",
   "execution_count": 38,
   "metadata": {},
   "outputs": [
    {
     "data": {
      "text/plain": [
       "['512-approx-f1-imb-0',\n",
       " '512-approx-f1-imb-0',\n",
       " '512-approx-f1-imb-1',\n",
       " '512-approx-f1-imb-1',\n",
       " '512-approx-f1-imb-2',\n",
       " '512-approx-f1-imb-2',\n",
       " '512-approx-f1-imb-3',\n",
       " '512-approx-f1-imb-3',\n",
       " '512-approx-f1-imb-4',\n",
       " '512-approx-f1-imb-4',\n",
       " '512-approx-f1-reg-0',\n",
       " '512-approx-f1-reg-1',\n",
       " '512-approx-f1-reg-2',\n",
       " '512-approx-f1-reg-3',\n",
       " '512-approx-f1-reg-4',\n",
       " '512-approx-f1-reg-5',\n",
       " '512-approx-f1-reg-6',\n",
       " '512-approx-f1-reg-7',\n",
       " '512-approx-f1-reg-8',\n",
       " '512-approx-f1-reg-9',\n",
       " '512-baseline-ce-imb-0',\n",
       " '512-baseline-ce-imb-1',\n",
       " '512-baseline-ce-imb-2',\n",
       " '512-baseline-ce-imb-3',\n",
       " '512-baseline-ce-imb-4',\n",
       " '512-baseline-ce-imb-5',\n",
       " '512-baseline-ce-imb-6',\n",
       " '512-baseline-ce-imb-7',\n",
       " '512-baseline-ce-imb-8',\n",
       " '512-baseline-ce-imb-9',\n",
       " '512-baseline-ce-reg-0',\n",
       " '512-baseline-ce-reg-1',\n",
       " '512-baseline-ce-reg-2',\n",
       " '512-baseline-ce-reg-3',\n",
       " '512-baseline-ce-reg-4',\n",
       " '512-baseline-ce-reg-5',\n",
       " '512-baseline-ce-reg-6',\n",
       " '512-baseline-ce-reg-7',\n",
       " '512-baseline-ce-reg-8',\n",
       " '512-baseline-ce-reg-9',\n",
       " 'run2-1024-approx-f1-reg-0',\n",
       " 'run2-1024-approx-f1-reg-1',\n",
       " 'run2-1024-approx-f1-reg-2',\n",
       " 'run2-1024-approx-f1-reg-3',\n",
       " 'run2-1024-approx-f1-reg-4',\n",
       " 'run2-1024-approx-f1-reg-5',\n",
       " 'run2-1024-approx-f1-reg-6',\n",
       " 'run2-1024-approx-f1-reg-7',\n",
       " 'run2-1024-approx-f1-reg-8',\n",
       " 'run2-1024-approx-f1-reg-9',\n",
       " 'run2-1024-baseline-ce-reg-0',\n",
       " 'run2-1024-baseline-ce-reg-1',\n",
       " 'run2-1024-baseline-ce-reg-2',\n",
       " 'run2-1024-baseline-ce-reg-3',\n",
       " 'run2-1024-baseline-ce-reg-4',\n",
       " 'run2-1024-baseline-ce-reg-5',\n",
       " 'run2-1024-baseline-ce-reg-5',\n",
       " 'run2-1024-baseline-ce-reg-5',\n",
       " 'run2-1024-baseline-ce-reg-6',\n",
       " 'run2-1024-baseline-ce-reg-6',\n",
       " 'run2-1024-baseline-ce-reg-6',\n",
       " 'run2-1024-baseline-ce-reg-7',\n",
       " 'run2-1024-baseline-ce-reg-7',\n",
       " 'run2-1024-baseline-ce-reg-7',\n",
       " 'run2-1024-baseline-ce-reg-8',\n",
       " 'run2-1024-baseline-ce-reg-8',\n",
       " 'run2-1024-baseline-ce-reg-8',\n",
       " 'run2-1024-baseline-ce-reg-9']"
      ]
     },
     "execution_count": 38,
     "metadata": {},
     "output_type": "execute_result"
    }
   ],
   "source": [
    "sorted(run_list)"
   ]
  },
  {
   "cell_type": "code",
   "execution_count": 39,
   "metadata": {},
   "outputs": [
    {
     "data": {
      "text/plain": [
       "['2048-approx-f1-imb-wt-0',\n",
       " '2048-approx-f1-imb-wt-1',\n",
       " '2048-approx-f1-imb-wt-2',\n",
       " '2048-approx-f1-imb-wt-3',\n",
       " '2048-approx-f1-imb-wt-4',\n",
       " '2048-approx-f1-imb-wt-5',\n",
       " '2048-approx-f1-imb-wt-6',\n",
       " '2048-approx-f1-imb-wt-7',\n",
       " '2048-approx-f1-imb-wt-8',\n",
       " '2048-approx-f1-imb-wt-9',\n",
       " '2048-approx-f1-reg-0',\n",
       " '2048-approx-f1-reg-1',\n",
       " '2048-approx-f1-reg-2',\n",
       " '2048-approx-f1-reg-3',\n",
       " '2048-approx-f1-reg-4',\n",
       " '2048-approx-f1-reg-5',\n",
       " '2048-approx-f1-reg-6',\n",
       " '2048-approx-f1-reg-7',\n",
       " '2048-approx-f1-reg-8',\n",
       " '2048-approx-f1-reg-9',\n",
       " '2048-baseline-ce-reg-0',\n",
       " '2048-baseline-ce-reg-1',\n",
       " '2048-baseline-ce-reg-2',\n",
       " '2048-baseline-ce-reg-3',\n",
       " '2048-baseline-ce-reg-4',\n",
       " '2048-baseline-ce-reg-5',\n",
       " '2048-baseline-ce-reg-6',\n",
       " '2048-baseline-ce-reg-7',\n",
       " '2048-baseline-ce-reg-8',\n",
       " '2048-baseline-ce-reg-9',\n",
       " '512-approx-f1-imb-5',\n",
       " '512-approx-f1-imb-6',\n",
       " '512-approx-f1-imb-7',\n",
       " '512-approx-f1-imb-8',\n",
       " '512-approx-f1-imb-9',\n",
       " 'run1-1024-baseline-ce-reg-0']"
      ]
     },
     "execution_count": 39,
     "metadata": {},
     "output_type": "execute_result"
    }
   ],
   "source": [
    "results_path = \"/Users/taesoodaniellee/Documents/heaviside/multiclass_src/results\"\n",
    "output_file = \"20201124_results.json\"\n",
    "file_path = \"/\".join([results_path, output_file])\n",
    "with open(file_path, \"r+\") as f: \n",
    "    results_20201124 = json.load(f) \n",
    "\n",
    "results_path = \"/Users/taesoodaniellee/Documents/heaviside/multiclass_src/results\"\n",
    "output_file = \"20201124_eval.json\"\n",
    "file_path = \"/\".join([results_path, output_file])\n",
    "with open(file_path, \"r+\") as f: \n",
    "    results_20201124_eval = json.load(f) \n",
    "    \n",
    "for i in range(len(results_20201124)): \n",
    "    for eval_res in results_20201124_eval: \n",
    "        if ('run_name' in results_20201123[i]) and ('run' in eval_res): \n",
    "            if results_20201124[i]['run_name'] == eval_res['run']: \n",
    "                results_20201124[i]['evaluation'] = eval_res\n",
    "\n",
    "run_list = [x['run_name'] for x in results_20201124 if 'run_name' in x]\n",
    "sorted(run_list)"
   ]
  },
  {
   "cell_type": "code",
   "execution_count": null,
   "metadata": {},
   "outputs": [],
   "source": []
  }
 ],
 "metadata": {
  "kernelspec": {
   "display_name": "Python 3",
   "language": "python",
   "name": "python3"
  },
  "language_info": {
   "codemirror_mode": {
    "name": "ipython",
    "version": 3
   },
   "file_extension": ".py",
   "mimetype": "text/x-python",
   "name": "python",
   "nbconvert_exporter": "python",
   "pygments_lexer": "ipython3",
   "version": "3.8.5"
  }
 },
 "nbformat": 4,
 "nbformat_minor": 4
}
