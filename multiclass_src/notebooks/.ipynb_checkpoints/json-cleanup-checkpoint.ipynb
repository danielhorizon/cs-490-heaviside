{
 "cells": [
  {
   "cell_type": "code",
   "execution_count": 1,
   "metadata": {},
   "outputs": [],
   "source": [
    "import json \n",
    "import numpy as np \n",
    "import pandas as pd "
   ]
  },
  {
   "cell_type": "code",
   "execution_count": 2,
   "metadata": {},
   "outputs": [
    {
     "data": {
      "text/plain": [
       "'/Users/taesoodaniellee/Documents/heaviside/multiclass_src/notebooks'"
      ]
     },
     "execution_count": 2,
     "metadata": {},
     "output_type": "execute_result"
    }
   ],
   "source": [
    "pwd"
   ]
  },
  {
   "cell_type": "markdown",
   "metadata": {},
   "source": [
    "joining all results with evaluation results into a larger json"
   ]
  },
  {
   "cell_type": "code",
   "execution_count": 45,
   "metadata": {},
   "outputs": [
    {
     "name": "stdout",
     "output_type": "stream",
     "text": [
      "41\n",
      "69\n",
      "37\n",
      "23\n",
      "--\n",
      "42\n",
      "43\n",
      "44\n",
      "44\n"
     ]
    }
   ],
   "source": [
    "results_path = \"/Users/taesoodaniellee/Documents/heaviside/multiclass_src/results\"\n",
    "output_file = \"20201122_results.json\"\n",
    "file_path1 = \"/\".join([results_path, output_file])\n",
    "with open(file_path1, \"r+\") as f1: \n",
    "    results_20201122 = json.load(f1)\n",
    "    print(len(results_20201122))\n",
    "\n",
    "output_file = \"20201123_results.json\"\n",
    "file_path2 = \"/\".join([results_path, output_file])\n",
    "with open(file_path2, \"r+\") as f2: \n",
    "    results_20201123 = json.load(f2) \n",
    "    print(len(results_20201123))\n",
    "\n",
    "output_file = \"20201124_results.json\"\n",
    "file_path3 = \"/\".join([results_path, output_file])\n",
    "with open(file_path3, \"r+\") as f3: \n",
    "    results_20201124 = json.load(f3) \n",
    "    print(len(results_20201124))\n",
    "\n",
    "output_file = \"prev.json\"\n",
    "file_path4 = \"/\".join([results_path, output_file])\n",
    "with open(file_path4, \"r+\") as f4: \n",
    "    prev_json = json.load(f4) \n",
    "    print(len(prev_json))\n",
    "print(\"--\")\n",
    "results_20201122.append(results_20201123)\n",
    "print(len(results_20201122))\n",
    "results_20201122.append(results_20201124)\n",
    "print(len(results_20201122))\n",
    "results_20201122.append(prev_json)\n",
    "print(len(results_20201122))\n",
    "total_results = results_20201122\n",
    "print(len(total_results))"
   ]
  },
  {
   "cell_type": "code",
   "execution_count": null,
   "metadata": {},
   "outputs": [],
   "source": []
  },
  {
   "cell_type": "code",
   "execution_count": 8,
   "metadata": {},
   "outputs": [],
   "source": [
    "results_path = \"/Users/taesoodaniellee/Documents/heaviside/multiclass_src/results\"\n",
    "output_file = \"20201122_eval.json\"\n",
    "file_path = \"/\".join([results_path, output_file])\n",
    "with open(file_path, \"r+\") as f: \n",
    "    results_20201122_eval = json.load(f) "
   ]
  },
  {
   "cell_type": "code",
   "execution_count": null,
   "metadata": {},
   "outputs": [],
   "source": []
  },
  {
   "cell_type": "code",
   "execution_count": null,
   "metadata": {},
   "outputs": [],
   "source": [
    "for i in range(len(results_20201122)): \n",
    "    for eval_res in results_20201122_eval: \n",
    "        if ('run_name' in results_20201122[i]) and ('run' in eval_res): \n",
    "            if results_20201122[i]['run_name'] == eval_res['run']: \n",
    "                results_20201122[i]['evaluation'] = eval_res"
   ]
  },
  {
   "cell_type": "code",
   "execution_count": 19,
   "metadata": {
    "scrolled": true
   },
   "outputs": [
    {
     "data": {
      "text/plain": [
       "{'best-epoch': 169,\n",
       " 'loss': 1.94972,\n",
       " 'test_wt_f1_score': 0.45332,\n",
       " 'val_wt_f1_score': 0.48902,\n",
       " 'test_accuracy': 0.4567,\n",
       " 'val_accuracy': 0.4922,\n",
       " 'learning_rate': 0.001,\n",
       " 'imbalanced': True,\n",
       " 'loss_metric': 'ce',\n",
       " 'run_name': '2048-baseline-imb-5',\n",
       " 'train_dxn': [754078,\n",
       "  758472,\n",
       "  762697,\n",
       "  763542,\n",
       "  758979,\n",
       "  763373,\n",
       "  762021,\n",
       "  760162,\n",
       "  761683,\n",
       "  759993],\n",
       " 'test_dxn': [170000,\n",
       "  170000,\n",
       "  170000,\n",
       "  170000,\n",
       "  170000,\n",
       "  170000,\n",
       "  170000,\n",
       "  170000,\n",
       "  170000,\n",
       "  170000],\n",
       " 'valid_dxn': [91460,\n",
       "  87040,\n",
       "  82790,\n",
       "  81940,\n",
       "  86530,\n",
       "  82110,\n",
       "  83470,\n",
       "  85340,\n",
       "  83810,\n",
       "  85510],\n",
       " 'final_test_dxn': None,\n",
       " 'seed': 2}"
      ]
     },
     "execution_count": 19,
     "metadata": {},
     "output_type": "execute_result"
    }
   ],
   "source": [
    "results_20201122[1]"
   ]
  },
  {
   "cell_type": "code",
   "execution_count": 21,
   "metadata": {},
   "outputs": [],
   "source": [
    "run_list = [x['run_name'] for x in results_20201122 if 'run_name' in x]"
   ]
  },
  {
   "cell_type": "code",
   "execution_count": 28,
   "metadata": {},
   "outputs": [],
   "source": [
    "results_path = \"/Users/taesoodaniellee/Documents/heaviside/multiclass_src/results\"\n",
    "output_file = \"20201122_eval.json\"\n",
    "file_path = \"/\".join([results_path, output_file])\n",
    "with open(file_path, \"r+\") as f: \n",
    "    results_20201122_eval = json.load(f) "
   ]
  },
  {
   "cell_type": "code",
   "execution_count": 33,
   "metadata": {},
   "outputs": [],
   "source": [
    "for i in range(len(results_20201122)): \n",
    "    for eval_res in results_20201122_eval: \n",
    "        if ('run_name' in results_20201122[i]) and ('run' in eval_res): \n",
    "            if results_20201122[i]['run_name'] == eval_res['run']: \n",
    "                results_20201122[i]['evaluation'] = eval_res"
   ]
  },
  {
   "cell_type": "code",
   "execution_count": 35,
   "metadata": {},
   "outputs": [
    {
     "data": {
      "text/plain": [
       "['2048-approx-f1-imb-0',\n",
       " '2048-approx-f1-imb-1',\n",
       " '2048-approx-f1-imb-2',\n",
       " '2048-approx-f1-imb-3',\n",
       " '2048-approx-f1-imb-4',\n",
       " '2048-approx-f1-imb-5',\n",
       " '2048-approx-f1-imb-6',\n",
       " '2048-approx-f1-imb-7',\n",
       " '2048-approx-f1-imb-8',\n",
       " '2048-approx-f1-imb-9',\n",
       " '2048-baseline-imb-0',\n",
       " '2048-baseline-imb-1',\n",
       " '2048-baseline-imb-2',\n",
       " '2048-baseline-imb-3',\n",
       " '2048-baseline-imb-4',\n",
       " '2048-baseline-imb-5',\n",
       " '2048-baseline-imb-6',\n",
       " '2048-baseline-imb-7',\n",
       " '2048-baseline-imb-8',\n",
       " '2048-baseline-imb-9',\n",
       " 'run2-1024-approx-f1-imb-0',\n",
       " 'run2-1024-approx-f1-imb-1',\n",
       " 'run2-1024-approx-f1-imb-2',\n",
       " 'run2-1024-approx-f1-imb-3',\n",
       " 'run2-1024-approx-f1-imb-4',\n",
       " 'run2-1024-approx-f1-imb-5',\n",
       " 'run2-1024-approx-f1-imb-6',\n",
       " 'run2-1024-approx-f1-imb-7',\n",
       " 'run2-1024-approx-f1-imb-8',\n",
       " 'run2-1024-approx-f1-imb-9',\n",
       " 'run2-1024-baseline-imb-0',\n",
       " 'run2-1024-baseline-imb-1',\n",
       " 'run2-1024-baseline-imb-2',\n",
       " 'run2-1024-baseline-imb-3',\n",
       " 'run2-1024-baseline-imb-4',\n",
       " 'run2-1024-baseline-imb-5',\n",
       " 'run2-1024-baseline-imb-6',\n",
       " 'run2-1024-baseline-imb-7',\n",
       " 'run2-1024-baseline-imb-8',\n",
       " 'run2-1024-baseline-imb-9']"
      ]
     },
     "execution_count": 35,
     "metadata": {},
     "output_type": "execute_result"
    }
   ],
   "source": [
    "run_list"
   ]
  },
  {
   "cell_type": "code",
   "execution_count": 36,
   "metadata": {},
   "outputs": [],
   "source": [
    "\n",
    "results_path = \"/Users/taesoodaniellee/Documents/heaviside/multiclass_src/results\"\n",
    "output_file = \"20201123_eval.json\"\n",
    "file_path = \"/\".join([results_path, output_file])\n",
    "with open(file_path, \"r+\") as f: \n",
    "    results_20201123_eval = json.load(f) \n",
    "    \n",
    "for i in range(len(results_20201123)): \n",
    "    for eval_res in results_20201123_eval: \n",
    "        if ('run_name' in results_20201123[i]) and ('run' in eval_res): \n",
    "            if results_20201123[i]['run_name'] == eval_res['run']: \n",
    "                results_20201123[i]['evaluation'] = eval_res\n",
    "\n",
    "run_list = [x['run_name'] for x in results_20201123 if 'run_name' in x]"
   ]
  },
  {
   "cell_type": "code",
   "execution_count": 38,
   "metadata": {},
   "outputs": [
    {
     "data": {
      "text/plain": [
       "['512-approx-f1-imb-0',\n",
       " '512-approx-f1-imb-0',\n",
       " '512-approx-f1-imb-1',\n",
       " '512-approx-f1-imb-1',\n",
       " '512-approx-f1-imb-2',\n",
       " '512-approx-f1-imb-2',\n",
       " '512-approx-f1-imb-3',\n",
       " '512-approx-f1-imb-3',\n",
       " '512-approx-f1-imb-4',\n",
       " '512-approx-f1-imb-4',\n",
       " '512-approx-f1-reg-0',\n",
       " '512-approx-f1-reg-1',\n",
       " '512-approx-f1-reg-2',\n",
       " '512-approx-f1-reg-3',\n",
       " '512-approx-f1-reg-4',\n",
       " '512-approx-f1-reg-5',\n",
       " '512-approx-f1-reg-6',\n",
       " '512-approx-f1-reg-7',\n",
       " '512-approx-f1-reg-8',\n",
       " '512-approx-f1-reg-9',\n",
       " '512-baseline-ce-imb-0',\n",
       " '512-baseline-ce-imb-1',\n",
       " '512-baseline-ce-imb-2',\n",
       " '512-baseline-ce-imb-3',\n",
       " '512-baseline-ce-imb-4',\n",
       " '512-baseline-ce-imb-5',\n",
       " '512-baseline-ce-imb-6',\n",
       " '512-baseline-ce-imb-7',\n",
       " '512-baseline-ce-imb-8',\n",
       " '512-baseline-ce-imb-9',\n",
       " '512-baseline-ce-reg-0',\n",
       " '512-baseline-ce-reg-1',\n",
       " '512-baseline-ce-reg-2',\n",
       " '512-baseline-ce-reg-3',\n",
       " '512-baseline-ce-reg-4',\n",
       " '512-baseline-ce-reg-5',\n",
       " '512-baseline-ce-reg-6',\n",
       " '512-baseline-ce-reg-7',\n",
       " '512-baseline-ce-reg-8',\n",
       " '512-baseline-ce-reg-9',\n",
       " 'run2-1024-approx-f1-reg-0',\n",
       " 'run2-1024-approx-f1-reg-1',\n",
       " 'run2-1024-approx-f1-reg-2',\n",
       " 'run2-1024-approx-f1-reg-3',\n",
       " 'run2-1024-approx-f1-reg-4',\n",
       " 'run2-1024-approx-f1-reg-5',\n",
       " 'run2-1024-approx-f1-reg-6',\n",
       " 'run2-1024-approx-f1-reg-7',\n",
       " 'run2-1024-approx-f1-reg-8',\n",
       " 'run2-1024-approx-f1-reg-9',\n",
       " 'run2-1024-baseline-ce-reg-0',\n",
       " 'run2-1024-baseline-ce-reg-1',\n",
       " 'run2-1024-baseline-ce-reg-2',\n",
       " 'run2-1024-baseline-ce-reg-3',\n",
       " 'run2-1024-baseline-ce-reg-4',\n",
       " 'run2-1024-baseline-ce-reg-5',\n",
       " 'run2-1024-baseline-ce-reg-5',\n",
       " 'run2-1024-baseline-ce-reg-5',\n",
       " 'run2-1024-baseline-ce-reg-6',\n",
       " 'run2-1024-baseline-ce-reg-6',\n",
       " 'run2-1024-baseline-ce-reg-6',\n",
       " 'run2-1024-baseline-ce-reg-7',\n",
       " 'run2-1024-baseline-ce-reg-7',\n",
       " 'run2-1024-baseline-ce-reg-7',\n",
       " 'run2-1024-baseline-ce-reg-8',\n",
       " 'run2-1024-baseline-ce-reg-8',\n",
       " 'run2-1024-baseline-ce-reg-8',\n",
       " 'run2-1024-baseline-ce-reg-9']"
      ]
     },
     "execution_count": 38,
     "metadata": {},
     "output_type": "execute_result"
    }
   ],
   "source": [
    "sorted(run_list)"
   ]
  },
  {
   "cell_type": "code",
   "execution_count": 39,
   "metadata": {},
   "outputs": [
    {
     "data": {
      "text/plain": [
       "['2048-approx-f1-imb-wt-0',\n",
       " '2048-approx-f1-imb-wt-1',\n",
       " '2048-approx-f1-imb-wt-2',\n",
       " '2048-approx-f1-imb-wt-3',\n",
       " '2048-approx-f1-imb-wt-4',\n",
       " '2048-approx-f1-imb-wt-5',\n",
       " '2048-approx-f1-imb-wt-6',\n",
       " '2048-approx-f1-imb-wt-7',\n",
       " '2048-approx-f1-imb-wt-8',\n",
       " '2048-approx-f1-imb-wt-9',\n",
       " '2048-approx-f1-reg-0',\n",
       " '2048-approx-f1-reg-1',\n",
       " '2048-approx-f1-reg-2',\n",
       " '2048-approx-f1-reg-3',\n",
       " '2048-approx-f1-reg-4',\n",
       " '2048-approx-f1-reg-5',\n",
       " '2048-approx-f1-reg-6',\n",
       " '2048-approx-f1-reg-7',\n",
       " '2048-approx-f1-reg-8',\n",
       " '2048-approx-f1-reg-9',\n",
       " '2048-baseline-ce-reg-0',\n",
       " '2048-baseline-ce-reg-1',\n",
       " '2048-baseline-ce-reg-2',\n",
       " '2048-baseline-ce-reg-3',\n",
       " '2048-baseline-ce-reg-4',\n",
       " '2048-baseline-ce-reg-5',\n",
       " '2048-baseline-ce-reg-6',\n",
       " '2048-baseline-ce-reg-7',\n",
       " '2048-baseline-ce-reg-8',\n",
       " '2048-baseline-ce-reg-9',\n",
       " '512-approx-f1-imb-5',\n",
       " '512-approx-f1-imb-6',\n",
       " '512-approx-f1-imb-7',\n",
       " '512-approx-f1-imb-8',\n",
       " '512-approx-f1-imb-9',\n",
       " 'run1-1024-baseline-ce-reg-0']"
      ]
     },
     "execution_count": 39,
     "metadata": {},
     "output_type": "execute_result"
    }
   ],
   "source": [
    "results_path = \"/Users/taesoodaniellee/Documents/heaviside/multiclass_src/results\"\n",
    "output_file = \"20201124_results.json\"\n",
    "file_path = \"/\".join([results_path, output_file])\n",
    "with open(file_path, \"r+\") as f: \n",
    "    results_20201124 = json.load(f) \n",
    "\n",
    "results_path = \"/Users/taesoodaniellee/Documents/heaviside/multiclass_src/results\"\n",
    "output_file = \"20201124_eval.json\"\n",
    "file_path = \"/\".join([results_path, output_file])\n",
    "with open(file_path, \"r+\") as f: \n",
    "    results_20201124_eval = json.load(f) \n",
    "    \n",
    "for i in range(len(results_20201124)): \n",
    "    for eval_res in results_20201124_eval: \n",
    "        if ('run_name' in results_20201123[i]) and ('run' in eval_res): \n",
    "            if results_20201124[i]['run_name'] == eval_res['run']: \n",
    "                results_20201124[i]['evaluation'] = eval_res\n",
    "\n",
    "run_list = [x['run_name'] for x in results_20201124 if 'run_name' in x]\n",
    "sorted(run_list)"
   ]
  },
  {
   "cell_type": "code",
   "execution_count": null,
   "metadata": {},
   "outputs": [],
   "source": []
  }
 ],
 "metadata": {
  "kernelspec": {
   "display_name": "Python 3",
   "language": "python",
   "name": "python3"
  },
  "language_info": {
   "codemirror_mode": {
    "name": "ipython",
    "version": 3
   },
   "file_extension": ".py",
   "mimetype": "text/x-python",
   "name": "python",
   "nbconvert_exporter": "python",
   "pygments_lexer": "ipython3",
   "version": "3.8.5"
  }
 },
 "nbformat": 4,
 "nbformat_minor": 4
}
