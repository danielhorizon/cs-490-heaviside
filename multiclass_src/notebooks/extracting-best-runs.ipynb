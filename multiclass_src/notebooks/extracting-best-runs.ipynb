{
 "cells": [
  {
   "cell_type": "code",
   "execution_count": 1,
   "metadata": {},
   "outputs": [],
   "source": [
    "import json \n",
    "import numpy as np \n",
    "import pandas as pd \n",
    "import seaborn as sns"
   ]
  },
  {
   "cell_type": "code",
   "execution_count": 19,
   "metadata": {},
   "outputs": [
    {
     "name": "stdout",
     "output_type": "stream",
     "text": [
      "1\n"
     ]
    }
   ],
   "source": [
    "results_path = \"/Users/taesoodaniellee/Documents/heaviside/multiclass_src/results\"\n",
    "output_file = \"search_testing.json\"\n",
    "fp = \"/\".join([results_path, output_file])\n",
    "with open(fp, \"r+\") as f: \n",
    "    results = json.load(f)\n",
    "    print(len(results))\n",
    "results = results[0]"
   ]
  },
  {
   "cell_type": "code",
   "execution_count": 25,
   "metadata": {},
   "outputs": [],
   "source": [
    "eval_agg = {\"0.1\":{'class_f1s':[0,0,0,0,0,0,0,0,0,0]}, \n",
    "            \"0.2\":{'class_f1s':[0,0,0,0,0,0,0,0,0,0]}, \n",
    "            \"0.3\":{'class_f1s':[0,0,0,0,0,0,0,0,0,0]}, \n",
    "            \"0.4\":{'class_f1s':[0,0,0,0,0,0,0,0,0,0]}, \n",
    "            \"0.45\":{'class_f1s':[0,0,0,0,0,0,0,0,0,0]}, \n",
    "            \"0.5\":{'class_f1s':[0,0,0,0,0,0,0,0,0,0]}, \n",
    "            \"0.55\":{'class_f1s':[0,0,0,0,0,0,0,0,0,0]}, \n",
    "            \"0.6\":{'class_f1s':[0,0,0,0,0,0,0,0,0,0]}, \n",
    "            \"0.7\":{'class_f1s':[0,0,0,0,0,0,0,0,0,0]}, \n",
    "            \"0.8\":{'class_f1s':[0,0,0,0,0,0,0,0,0,0]}, \n",
    "            \"0.9\":{'class_f1s':[0,0,0,0,0,0,0,0,0,0]}}"
   ]
  },
  {
   "cell_type": "code",
   "execution_count": 26,
   "metadata": {},
   "outputs": [],
   "source": [
    "train_taus = [\"0.1\",\"0.2\", \"0.3\", \"0.5\", \"0.7\"]\n",
    "eval_taus = [\"0.1\", \"0.2\", \"0.3\", \"0.4\", \"0.45\", \"0.5\", \"0.55\", \"0.6\", \"0.7\", \"0.8\", \"0.9\"]\n",
    "for etau in eval_taus: \n",
    "    for i in range(10): \n",
    "        eval_agg[etau]['class_f1s'][i] = max(results[x][etau]['class_f1s'][i] for x in train_taus)"
   ]
  },
  {
   "cell_type": "code",
   "execution_count": 29,
   "metadata": {},
   "outputs": [],
   "source": [
    "final_agg = {\"0.1\":0, \"0.2\":0, \"0.3\":0, \"0.4\":0, \"0.45\":0, \"0.5\":0, \"0.55\":0, \"0.6\":0, \"0.7\":0, \"0.8\":0, \"0.9\":0}"
   ]
  },
  {
   "cell_type": "code",
   "execution_count": 31,
   "metadata": {},
   "outputs": [],
   "source": [
    "for etau in eval_taus: \n",
    "    final_agg[etau] = np.array(eval_agg[etau]['class_f1s']).mean()"
   ]
  },
  {
   "cell_type": "code",
   "execution_count": 32,
   "metadata": {},
   "outputs": [
    {
     "data": {
      "text/plain": [
       "{'0.1': 0.5371171742677688,\n",
       " '0.2': 0.572937685251236,\n",
       " '0.3': 0.5830282390117645,\n",
       " '0.4': 0.5699752748012543,\n",
       " '0.45': 0.5828176081180573,\n",
       " '0.5': 0.5684857964515686,\n",
       " '0.55': 0.572805643081665,\n",
       " '0.6': 0.5378705203533173,\n",
       " '0.7': 0.5476320743560791,\n",
       " '0.8': 0.5330234929919243,\n",
       " '0.9': 0.5232774451375007}"
      ]
     },
     "execution_count": 32,
     "metadata": {},
     "output_type": "execute_result"
    }
   ],
   "source": [
    "final_agg"
   ]
  },
  {
   "cell_type": "code",
   "execution_count": 33,
   "metadata": {},
   "outputs": [],
   "source": [
    "final_agg_arr = [final_agg[etau] for etau in eval_taus]"
   ]
  },
  {
   "cell_type": "code",
   "execution_count": 34,
   "metadata": {},
   "outputs": [
    {
     "data": {
      "text/plain": [
       "[0.5371171742677688,\n",
       " 0.572937685251236,\n",
       " 0.5830282390117645,\n",
       " 0.5699752748012543,\n",
       " 0.5828176081180573,\n",
       " 0.5684857964515686,\n",
       " 0.572805643081665,\n",
       " 0.5378705203533173,\n",
       " 0.5476320743560791,\n",
       " 0.5330234929919243,\n",
       " 0.5232774451375007]"
      ]
     },
     "execution_count": 34,
     "metadata": {},
     "output_type": "execute_result"
    }
   ],
   "source": [
    "final_agg_arr"
   ]
  },
  {
   "cell_type": "markdown",
   "metadata": {},
   "source": [
    "# for 0.1 "
   ]
  },
  {
   "cell_type": "code",
   "execution_count": 36,
   "metadata": {},
   "outputs": [
    {
     "name": "stdout",
     "output_type": "stream",
     "text": [
      "1\n"
     ]
    }
   ],
   "source": [
    "results_path = \"/Users/taesoodaniellee/Documents/heaviside/multiclass_src/results\"\n",
    "output_file = \"search_testing_0_1.json\"\n",
    "fp = \"/\".join([results_path, output_file])\n",
    "with open(fp, \"r+\") as f: \n",
    "    results = json.load(f)\n",
    "    print(len(results))\n",
    "results = results[0]"
   ]
  },
  {
   "cell_type": "code",
   "execution_count": 37,
   "metadata": {},
   "outputs": [],
   "source": [
    "eval_agg = {\"0.1\":{'class_f1s':[0,0,0,0,0,0,0,0,0,0]}, \n",
    "            \"0.2\":{'class_f1s':[0,0,0,0,0,0,0,0,0,0]}, \n",
    "            \"0.3\":{'class_f1s':[0,0,0,0,0,0,0,0,0,0]}, \n",
    "            \"0.4\":{'class_f1s':[0,0,0,0,0,0,0,0,0,0]}, \n",
    "            \"0.45\":{'class_f1s':[0,0,0,0,0,0,0,0,0,0]}, \n",
    "            \"0.5\":{'class_f1s':[0,0,0,0,0,0,0,0,0,0]}, \n",
    "            \"0.55\":{'class_f1s':[0,0,0,0,0,0,0,0,0,0]}, \n",
    "            \"0.6\":{'class_f1s':[0,0,0,0,0,0,0,0,0,0]}, \n",
    "            \"0.7\":{'class_f1s':[0,0,0,0,0,0,0,0,0,0]}, \n",
    "            \"0.8\":{'class_f1s':[0,0,0,0,0,0,0,0,0,0]}, \n",
    "            \"0.9\":{'class_f1s':[0,0,0,0,0,0,0,0,0,0]}}"
   ]
  },
  {
   "cell_type": "code",
   "execution_count": 38,
   "metadata": {},
   "outputs": [],
   "source": [
    "train_taus = [\"0.1\"]\n",
    "eval_taus = [\"0.1\", \"0.2\", \"0.3\", \"0.4\", \"0.45\", \"0.5\", \"0.55\", \"0.6\", \"0.7\", \"0.8\", \"0.9\"]\n",
    "for etau in eval_taus: \n",
    "    for i in range(10): \n",
    "        eval_agg[etau]['class_f1s'][i] = max(results[x][etau]['class_f1s'][i] for x in train_taus)"
   ]
  },
  {
   "cell_type": "code",
   "execution_count": 39,
   "metadata": {},
   "outputs": [],
   "source": [
    "final_agg = {\"0.1\":0, \"0.2\":0, \"0.3\":0, \"0.4\":0, \"0.45\":0, \"0.5\":0, \"0.55\":0, \"0.6\":0, \"0.7\":0, \"0.8\":0, \"0.9\":0}\n",
    "for etau in eval_taus: \n",
    "    final_agg[etau] = np.array(eval_agg[etau]['class_f1s']).mean()"
   ]
  },
  {
   "cell_type": "code",
   "execution_count": 40,
   "metadata": {},
   "outputs": [
    {
     "data": {
      "text/plain": [
       "{'0.1': 0.46804577112197876,\n",
       " '0.2': 0.4637616567313671,\n",
       " '0.3': 0.45421298742294314,\n",
       " '0.4': 0.4530294626951218,\n",
       " '0.45': 0.4408780917525291,\n",
       " '0.5': 0.41965553984045983,\n",
       " '0.55': 0.3023048497736454,\n",
       " '0.6': 0.27748643718659877,\n",
       " '0.7': 0.2811238199472427,\n",
       " '0.8': 0.2860259678214788,\n",
       " '0.9': 0.2511296305805445}"
      ]
     },
     "execution_count": 40,
     "metadata": {},
     "output_type": "execute_result"
    }
   ],
   "source": [
    "final_agg"
   ]
  },
  {
   "cell_type": "code",
   "execution_count": 41,
   "metadata": {},
   "outputs": [],
   "source": [
    "final_agg_arr = [final_agg[etau] for etau in eval_taus]"
   ]
  },
  {
   "cell_type": "code",
   "execution_count": 42,
   "metadata": {},
   "outputs": [
    {
     "data": {
      "text/plain": [
       "[0.46804577112197876,\n",
       " 0.4637616567313671,\n",
       " 0.45421298742294314,\n",
       " 0.4530294626951218,\n",
       " 0.4408780917525291,\n",
       " 0.41965553984045983,\n",
       " 0.3023048497736454,\n",
       " 0.27748643718659877,\n",
       " 0.2811238199472427,\n",
       " 0.2860259678214788,\n",
       " 0.2511296305805445]"
      ]
     },
     "execution_count": 42,
     "metadata": {},
     "output_type": "execute_result"
    }
   ],
   "source": [
    "final_agg_arr"
   ]
  },
  {
   "cell_type": "markdown",
   "metadata": {},
   "source": [
    "# for 0.2 "
   ]
  },
  {
   "cell_type": "code",
   "execution_count": 43,
   "metadata": {},
   "outputs": [
    {
     "name": "stdout",
     "output_type": "stream",
     "text": [
      "1\n"
     ]
    }
   ],
   "source": [
    "results_path = \"/Users/taesoodaniellee/Documents/heaviside/multiclass_src/results\"\n",
    "output_file = \"search_testing_0_2.json\"\n",
    "fp = \"/\".join([results_path, output_file])\n",
    "with open(fp, \"r+\") as f: \n",
    "    results = json.load(f)\n",
    "    print(len(results))\n",
    "results = results[0]"
   ]
  },
  {
   "cell_type": "code",
   "execution_count": 44,
   "metadata": {},
   "outputs": [],
   "source": [
    "eval_agg = {\"0.1\":{'class_f1s':[0,0,0,0,0,0,0,0,0,0]}, \n",
    "            \"0.2\":{'class_f1s':[0,0,0,0,0,0,0,0,0,0]}, \n",
    "            \"0.3\":{'class_f1s':[0,0,0,0,0,0,0,0,0,0]}, \n",
    "            \"0.4\":{'class_f1s':[0,0,0,0,0,0,0,0,0,0]}, \n",
    "            \"0.45\":{'class_f1s':[0,0,0,0,0,0,0,0,0,0]}, \n",
    "            \"0.5\":{'class_f1s':[0,0,0,0,0,0,0,0,0,0]}, \n",
    "            \"0.55\":{'class_f1s':[0,0,0,0,0,0,0,0,0,0]}, \n",
    "            \"0.6\":{'class_f1s':[0,0,0,0,0,0,0,0,0,0]}, \n",
    "            \"0.7\":{'class_f1s':[0,0,0,0,0,0,0,0,0,0]}, \n",
    "            \"0.8\":{'class_f1s':[0,0,0,0,0,0,0,0,0,0]}, \n",
    "            \"0.9\":{'class_f1s':[0,0,0,0,0,0,0,0,0,0]}}"
   ]
  },
  {
   "cell_type": "code",
   "execution_count": 45,
   "metadata": {},
   "outputs": [],
   "source": [
    "train_taus = [\"0.2\"]\n",
    "eval_taus = [\"0.1\", \"0.2\", \"0.3\", \"0.4\", \"0.45\", \"0.5\", \"0.55\", \"0.6\", \"0.7\", \"0.8\", \"0.9\"]\n",
    "for etau in eval_taus: \n",
    "    for i in range(10): \n",
    "        eval_agg[etau]['class_f1s'][i] = max(results[x][etau]['class_f1s'][i] for x in train_taus)"
   ]
  },
  {
   "cell_type": "code",
   "execution_count": 46,
   "metadata": {},
   "outputs": [],
   "source": [
    "final_agg = {\"0.1\":0, \"0.2\":0, \"0.3\":0, \"0.4\":0, \"0.45\":0, \"0.5\":0, \"0.55\":0, \"0.6\":0, \"0.7\":0, \"0.8\":0, \"0.9\":0}\n",
    "for etau in eval_taus: \n",
    "    final_agg[etau] = np.array(eval_agg[etau]['class_f1s']).mean()"
   ]
  },
  {
   "cell_type": "code",
   "execution_count": 47,
   "metadata": {},
   "outputs": [],
   "source": [
    "final_agg_arr = [final_agg[etau] for etau in eval_taus]"
   ]
  },
  {
   "cell_type": "code",
   "execution_count": 48,
   "metadata": {},
   "outputs": [
    {
     "data": {
      "text/plain": [
       "[0.45652765333652495,\n",
       " 0.5012938112020493,\n",
       " 0.4757544219493866,\n",
       " 0.37271310240030286,\n",
       " 0.3814778529107571,\n",
       " 0.34494016133248806,\n",
       " 0.31052898727357386,\n",
       " 0.30043985415250063,\n",
       " 0.30154903084039686,\n",
       " 0.2817706048488617,\n",
       " 0.27825882732868196]"
      ]
     },
     "execution_count": 48,
     "metadata": {},
     "output_type": "execute_result"
    }
   ],
   "source": [
    "final_agg_arr"
   ]
  },
  {
   "cell_type": "code",
   "execution_count": null,
   "metadata": {},
   "outputs": [],
   "source": []
  }
 ],
 "metadata": {
  "kernelspec": {
   "display_name": "Python 3",
   "language": "python",
   "name": "python3"
  },
  "language_info": {
   "codemirror_mode": {
    "name": "ipython",
    "version": 3
   },
   "file_extension": ".py",
   "mimetype": "text/x-python",
   "name": "python",
   "nbconvert_exporter": "python",
   "pygments_lexer": "ipython3",
   "version": "3.8.6"
  }
 },
 "nbformat": 4,
 "nbformat_minor": 4
}
